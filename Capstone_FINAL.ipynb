{
 "cells": [
  {
   "cell_type": "markdown",
   "metadata": {},
   "source": [
    "# PROYECTO FINAL"
   ]
  },
  {
   "cell_type": "code",
   "execution_count": 11,
   "metadata": {},
   "outputs": [],
   "source": [
    "import numpy as np\n",
    "import pandas as pd\n",
    "import matplotlib.pyplot as plt\n",
    "import datetime\n",
    "import re\n",
    "import seaborn as sns\n",
    "import folium \n",
    "from folium import plugins\n",
    "\n",
    "%matplotlib inline"
   ]
  },
  {
   "cell_type": "code",
   "execution_count": 12,
   "metadata": {},
   "outputs": [],
   "source": [
    "delitos = pd.read_csv(\"C:/Users/Ramiro Antonio/Documents/ironhack_labs/capstone/Todos_delitos/Todos_Delitos_CDMX_limpio.csv\", encoding='latin-1')"
   ]
  },
  {
   "cell_type": "markdown",
   "metadata": {},
   "source": [
    "# Exploracion "
   ]
  },
  {
   "cell_type": "code",
   "execution_count": null,
   "metadata": {},
   "outputs": [],
   "source": [
    "#delitos.shape"
   ]
  },
  {
   "cell_type": "code",
   "execution_count": 13,
   "metadata": {
    "scrolled": true
   },
   "outputs": [
    {
     "data": {
      "text/html": [
       "<div>\n",
       "<style scoped>\n",
       "    .dataframe tbody tr th:only-of-type {\n",
       "        vertical-align: middle;\n",
       "    }\n",
       "\n",
       "    .dataframe tbody tr th {\n",
       "        vertical-align: top;\n",
       "    }\n",
       "\n",
       "    .dataframe thead th {\n",
       "        text-align: right;\n",
       "    }\n",
       "</style>\n",
       "<table border=\"1\" class=\"dataframe\">\n",
       "  <thead>\n",
       "    <tr style=\"text-align: right;\">\n",
       "      <th></th>\n",
       "      <th>latitud</th>\n",
       "      <th>calle_hechos2</th>\n",
       "      <th>tipopersona</th>\n",
       "      <th>mes_hecho</th>\n",
       "      <th>mes_inicio</th>\n",
       "      <th>horainicio</th>\n",
       "      <th>competencia</th>\n",
       "      <th>coloniahechos</th>\n",
       "      <th>categoria</th>\n",
       "      <th>calidadjuridica</th>\n",
       "      <th>...</th>\n",
       "      <th>delito</th>\n",
       "      <th>alcaldiahechos</th>\n",
       "      <th>longitud</th>\n",
       "      <th>edad</th>\n",
       "      <th>ano_hecho</th>\n",
       "      <th>ano_inicio</th>\n",
       "      <th>calle_hechos</th>\n",
       "      <th>horahecho</th>\n",
       "      <th>geopoint</th>\n",
       "      <th>fechahecho</th>\n",
       "    </tr>\n",
       "  </thead>\n",
       "  <tbody>\n",
       "    <tr>\n",
       "      <th>0</th>\n",
       "      <td>19.32756</td>\n",
       "      <td>CANTERA</td>\n",
       "      <td>MORAL</td>\n",
       "      <td>Diciembre</td>\n",
       "      <td>Enero</td>\n",
       "      <td>12:35:00 a. m.</td>\n",
       "      <td>FUERO COMUN</td>\n",
       "      <td>SAN JERONIMO LIDICE</td>\n",
       "      <td>DELITO DE BAJO IMPACTO</td>\n",
       "      <td>VICTIMA</td>\n",
       "      <td>...</td>\n",
       "      <td>POSESION DE VEHICULO ROBADO</td>\n",
       "      <td>LA MAGDALENA CONTRERAS</td>\n",
       "      <td>-99.23246</td>\n",
       "      <td>NaN</td>\n",
       "      <td>2018.0</td>\n",
       "      <td>2019</td>\n",
       "      <td>SAN BERNABE</td>\n",
       "      <td>22:05</td>\n",
       "      <td>(2:19.32756,-99.23246)</td>\n",
       "      <td>31/12/2018</td>\n",
       "    </tr>\n",
       "    <tr>\n",
       "      <th>1</th>\n",
       "      <td>19.37453</td>\n",
       "      <td>NaN</td>\n",
       "      <td>MORAL</td>\n",
       "      <td>Diciembre</td>\n",
       "      <td>Enero</td>\n",
       "      <td>01:37:00 a. m.</td>\n",
       "      <td>FUERO COMUN</td>\n",
       "      <td>EL RETONO</td>\n",
       "      <td>ROBO A NEGOCIO CON VIOLENCIA</td>\n",
       "      <td>VICTIMA</td>\n",
       "      <td>...</td>\n",
       "      <td>ROBO A NEGOCIO CON VIOLENCIA</td>\n",
       "      <td>IZTAPALAPA</td>\n",
       "      <td>-99.12694</td>\n",
       "      <td>NaN</td>\n",
       "      <td>2018.0</td>\n",
       "      <td>2019</td>\n",
       "      <td>PORTO ALEGRE</td>\n",
       "      <td>23:21</td>\n",
       "      <td>(2:19.37453,-99.12694)</td>\n",
       "      <td>31/12/2018</td>\n",
       "    </tr>\n",
       "    <tr>\n",
       "      <th>2</th>\n",
       "      <td>19.40430</td>\n",
       "      <td>NaN</td>\n",
       "      <td>MORAL</td>\n",
       "      <td>Enero</td>\n",
       "      <td>Enero</td>\n",
       "      <td>02:50:00 a. m.</td>\n",
       "      <td>FUERO COMUN</td>\n",
       "      <td>AGRICOLA PANTITLAN</td>\n",
       "      <td>DELITO DE BAJO IMPACTO</td>\n",
       "      <td>VICTIMA</td>\n",
       "      <td>...</td>\n",
       "      <td>DANO EN PROPIEDAD AJENA CULPOSA</td>\n",
       "      <td>IZTACALCO</td>\n",
       "      <td>-99.06857</td>\n",
       "      <td>NaN</td>\n",
       "      <td>2019.0</td>\n",
       "      <td>2019</td>\n",
       "      <td>CALZADA IGNACIO ZARAGOZA</td>\n",
       "      <td>01:05</td>\n",
       "      <td>(2:19.4043,-99.06856999999999)</td>\n",
       "      <td>01/01/2019</td>\n",
       "    </tr>\n",
       "    <tr>\n",
       "      <th>3</th>\n",
       "      <td>19.39723</td>\n",
       "      <td>NaN</td>\n",
       "      <td>FISICA</td>\n",
       "      <td>Diciembre</td>\n",
       "      <td>Enero</td>\n",
       "      <td>02:54:00 a. m.</td>\n",
       "      <td>FUERO COMUN</td>\n",
       "      <td>AMPLIACION ESTADO DE HIDALGO</td>\n",
       "      <td>ROBO DE VEHICULO CON Y SIN VIOLENCIA</td>\n",
       "      <td>VICTIMA Y DENUNCIANTE</td>\n",
       "      <td>...</td>\n",
       "      <td>ROBO DE VEHICULO DE SERVICIO PUBLICO CON VIOLE...</td>\n",
       "      <td>ALVARO OBREGON</td>\n",
       "      <td>-99.20937</td>\n",
       "      <td>51.0</td>\n",
       "      <td>2018.0</td>\n",
       "      <td>2019</td>\n",
       "      <td>PROLONGACION ARTIFICIOS</td>\n",
       "      <td>22:20</td>\n",
       "      <td>(2:19.39723,-99.20937000000001)</td>\n",
       "      <td>31/12/2018</td>\n",
       "    </tr>\n",
       "    <tr>\n",
       "      <th>4</th>\n",
       "      <td>19.36749</td>\n",
       "      <td>sauce</td>\n",
       "      <td>FISICA</td>\n",
       "      <td>Enero</td>\n",
       "      <td>Enero</td>\n",
       "      <td>03:23:00 a. m.</td>\n",
       "      <td>FUERO COMUN</td>\n",
       "      <td>GARCIMARRERO</td>\n",
       "      <td>DELITO DE BAJO IMPACTO</td>\n",
       "      <td>OFENDIDO</td>\n",
       "      <td>...</td>\n",
       "      <td>DANO EN PROPIEDAD AJENA CULPOSA POR TRANSITO V...</td>\n",
       "      <td>ALVARO OBREGON</td>\n",
       "      <td>-99.23714</td>\n",
       "      <td>NaN</td>\n",
       "      <td>2019.0</td>\n",
       "      <td>2019</td>\n",
       "      <td>AVENIDA TAMAULIPAS</td>\n",
       "      <td>02:15</td>\n",
       "      <td>(2:19.36749,-99.23714)</td>\n",
       "      <td>01/01/2019</td>\n",
       "    </tr>\n",
       "  </tbody>\n",
       "</table>\n",
       "<p>5 rows × 23 columns</p>\n",
       "</div>"
      ],
      "text/plain": [
       "    latitud calle_hechos2 tipopersona  mes_hecho mes_inicio      horainicio  \\\n",
       "0  19.32756       CANTERA       MORAL  Diciembre      Enero  12:35:00 a. m.   \n",
       "1  19.37453           NaN       MORAL  Diciembre      Enero  01:37:00 a. m.   \n",
       "2  19.40430           NaN       MORAL      Enero      Enero  02:50:00 a. m.   \n",
       "3  19.39723           NaN      FISICA  Diciembre      Enero  02:54:00 a. m.   \n",
       "4  19.36749         sauce      FISICA      Enero      Enero  03:23:00 a. m.   \n",
       "\n",
       "   competencia                 coloniahechos  \\\n",
       "0  FUERO COMUN           SAN JERONIMO LIDICE   \n",
       "1  FUERO COMUN                     EL RETONO   \n",
       "2  FUERO COMUN            AGRICOLA PANTITLAN   \n",
       "3  FUERO COMUN  AMPLIACION ESTADO DE HIDALGO   \n",
       "4  FUERO COMUN                  GARCIMARRERO   \n",
       "\n",
       "                              categoria        calidadjuridica  ...  \\\n",
       "0                DELITO DE BAJO IMPACTO                VICTIMA  ...   \n",
       "1          ROBO A NEGOCIO CON VIOLENCIA                VICTIMA  ...   \n",
       "2                DELITO DE BAJO IMPACTO                VICTIMA  ...   \n",
       "3  ROBO DE VEHICULO CON Y SIN VIOLENCIA  VICTIMA Y DENUNCIANTE  ...   \n",
       "4                DELITO DE BAJO IMPACTO               OFENDIDO  ...   \n",
       "\n",
       "                                              delito          alcaldiahechos  \\\n",
       "0                        POSESION DE VEHICULO ROBADO  LA MAGDALENA CONTRERAS   \n",
       "1                       ROBO A NEGOCIO CON VIOLENCIA              IZTAPALAPA   \n",
       "2                    DANO EN PROPIEDAD AJENA CULPOSA               IZTACALCO   \n",
       "3  ROBO DE VEHICULO DE SERVICIO PUBLICO CON VIOLE...          ALVARO OBREGON   \n",
       "4  DANO EN PROPIEDAD AJENA CULPOSA POR TRANSITO V...          ALVARO OBREGON   \n",
       "\n",
       "   longitud  edad ano_hecho  ano_inicio              calle_hechos  horahecho  \\\n",
       "0 -99.23246   NaN    2018.0        2019               SAN BERNABE      22:05   \n",
       "1 -99.12694   NaN    2018.0        2019              PORTO ALEGRE      23:21   \n",
       "2 -99.06857   NaN    2019.0        2019  CALZADA IGNACIO ZARAGOZA      01:05   \n",
       "3 -99.20937  51.0    2018.0        2019   PROLONGACION ARTIFICIOS      22:20   \n",
       "4 -99.23714   NaN    2019.0        2019        AVENIDA TAMAULIPAS      02:15   \n",
       "\n",
       "                          geopoint  fechahecho  \n",
       "0           (2:19.32756,-99.23246)  31/12/2018  \n",
       "1           (2:19.37453,-99.12694)  31/12/2018  \n",
       "2   (2:19.4043,-99.06856999999999)  01/01/2019  \n",
       "3  (2:19.39723,-99.20937000000001)  31/12/2018  \n",
       "4           (2:19.36749,-99.23714)  01/01/2019  \n",
       "\n",
       "[5 rows x 23 columns]"
      ]
     },
     "execution_count": 13,
     "metadata": {},
     "output_type": "execute_result"
    }
   ],
   "source": [
    "delitos.head()"
   ]
  },
  {
   "cell_type": "code",
   "execution_count": null,
   "metadata": {},
   "outputs": [],
   "source": [
    "delitos.columns"
   ]
  },
  {
   "cell_type": "code",
   "execution_count": null,
   "metadata": {},
   "outputs": [],
   "source": [
    "delitos.info()\n",
    "\n",
    "#Se observa que 286,644 delitos"
   ]
  },
  {
   "cell_type": "code",
   "execution_count": null,
   "metadata": {},
   "outputs": [],
   "source": [
    "delitos.describe().T"
   ]
  },
  {
   "cell_type": "markdown",
   "metadata": {},
   "source": [
    "Reacomodar las columnas"
   ]
  },
  {
   "cell_type": "code",
   "execution_count": 14,
   "metadata": {},
   "outputs": [],
   "source": [
    "#Reacomoar las columns\n",
    "pd.options.display.max_columns = None\n",
    "pd.options.display.max_rows = None\n",
    "\n",
    "delitos = delitos[['idcarpeta','latitud', 'longitud', 'ano_hecho', 'mes_hecho',\n",
    "                   'horahecho', \"categoria\", \"delito\", \"sexo\", \"edad\", \"calidadjuridica\", \"tipopersona\", \"alcaldiahechos\", \n",
    "                   'coloniahechos', 'calle_hechos', 'calle_hechos2', 'competencia',  'fechahecho', \"fechainicio\",\n",
    "                  'geopoint', 'ano_inicio', 'mes_inicio', 'horainicio']]"
   ]
  },
  {
   "cell_type": "markdown",
   "metadata": {},
   "source": [
    "Verificar faltantes"
   ]
  },
  {
   "cell_type": "code",
   "execution_count": 15,
   "metadata": {},
   "outputs": [
    {
     "data": {
      "text/html": [
       "<div>\n",
       "<style scoped>\n",
       "    .dataframe tbody tr th:only-of-type {\n",
       "        vertical-align: middle;\n",
       "    }\n",
       "\n",
       "    .dataframe tbody tr th {\n",
       "        vertical-align: top;\n",
       "    }\n",
       "\n",
       "    .dataframe thead th {\n",
       "        text-align: right;\n",
       "    }\n",
       "</style>\n",
       "<table border=\"1\" class=\"dataframe\">\n",
       "  <thead>\n",
       "    <tr style=\"text-align: right;\">\n",
       "      <th></th>\n",
       "      <th>Variable</th>\n",
       "      <th>Faltantes</th>\n",
       "      <th>Proporcion</th>\n",
       "    </tr>\n",
       "  </thead>\n",
       "  <tbody>\n",
       "    <tr>\n",
       "      <th>15</th>\n",
       "      <td>calle_hechos2</td>\n",
       "      <td>181385</td>\n",
       "      <td>63.278841</td>\n",
       "    </tr>\n",
       "    <tr>\n",
       "      <th>9</th>\n",
       "      <td>edad</td>\n",
       "      <td>104599</td>\n",
       "      <td>36.490909</td>\n",
       "    </tr>\n",
       "    <tr>\n",
       "      <th>8</th>\n",
       "      <td>sexo</td>\n",
       "      <td>60482</td>\n",
       "      <td>21.100040</td>\n",
       "    </tr>\n",
       "    <tr>\n",
       "      <th>13</th>\n",
       "      <td>coloniahechos</td>\n",
       "      <td>10033</td>\n",
       "      <td>3.500160</td>\n",
       "    </tr>\n",
       "    <tr>\n",
       "      <th>2</th>\n",
       "      <td>longitud</td>\n",
       "      <td>9998</td>\n",
       "      <td>3.487950</td>\n",
       "    </tr>\n",
       "    <tr>\n",
       "      <th>1</th>\n",
       "      <td>latitud</td>\n",
       "      <td>9998</td>\n",
       "      <td>3.487950</td>\n",
       "    </tr>\n",
       "    <tr>\n",
       "      <th>19</th>\n",
       "      <td>geopoint</td>\n",
       "      <td>9998</td>\n",
       "      <td>3.487950</td>\n",
       "    </tr>\n",
       "    <tr>\n",
       "      <th>11</th>\n",
       "      <td>tipopersona</td>\n",
       "      <td>3082</td>\n",
       "      <td>1.075201</td>\n",
       "    </tr>\n",
       "    <tr>\n",
       "      <th>14</th>\n",
       "      <td>calle_hechos</td>\n",
       "      <td>597</td>\n",
       "      <td>0.208272</td>\n",
       "    </tr>\n",
       "    <tr>\n",
       "      <th>17</th>\n",
       "      <td>fechahecho</td>\n",
       "      <td>239</td>\n",
       "      <td>0.083379</td>\n",
       "    </tr>\n",
       "    <tr>\n",
       "      <th>5</th>\n",
       "      <td>horahecho</td>\n",
       "      <td>239</td>\n",
       "      <td>0.083379</td>\n",
       "    </tr>\n",
       "    <tr>\n",
       "      <th>4</th>\n",
       "      <td>mes_hecho</td>\n",
       "      <td>239</td>\n",
       "      <td>0.083379</td>\n",
       "    </tr>\n",
       "    <tr>\n",
       "      <th>3</th>\n",
       "      <td>ano_hecho</td>\n",
       "      <td>239</td>\n",
       "      <td>0.083379</td>\n",
       "    </tr>\n",
       "    <tr>\n",
       "      <th>12</th>\n",
       "      <td>alcaldiahechos</td>\n",
       "      <td>1</td>\n",
       "      <td>0.000349</td>\n",
       "    </tr>\n",
       "    <tr>\n",
       "      <th>20</th>\n",
       "      <td>ano_inicio</td>\n",
       "      <td>0</td>\n",
       "      <td>0.000000</td>\n",
       "    </tr>\n",
       "    <tr>\n",
       "      <th>21</th>\n",
       "      <td>mes_inicio</td>\n",
       "      <td>0</td>\n",
       "      <td>0.000000</td>\n",
       "    </tr>\n",
       "    <tr>\n",
       "      <th>18</th>\n",
       "      <td>fechainicio</td>\n",
       "      <td>0</td>\n",
       "      <td>0.000000</td>\n",
       "    </tr>\n",
       "    <tr>\n",
       "      <th>0</th>\n",
       "      <td>idcarpeta</td>\n",
       "      <td>0</td>\n",
       "      <td>0.000000</td>\n",
       "    </tr>\n",
       "    <tr>\n",
       "      <th>16</th>\n",
       "      <td>competencia</td>\n",
       "      <td>0</td>\n",
       "      <td>0.000000</td>\n",
       "    </tr>\n",
       "    <tr>\n",
       "      <th>10</th>\n",
       "      <td>calidadjuridica</td>\n",
       "      <td>0</td>\n",
       "      <td>0.000000</td>\n",
       "    </tr>\n",
       "    <tr>\n",
       "      <th>7</th>\n",
       "      <td>delito</td>\n",
       "      <td>0</td>\n",
       "      <td>0.000000</td>\n",
       "    </tr>\n",
       "    <tr>\n",
       "      <th>6</th>\n",
       "      <td>categoria</td>\n",
       "      <td>0</td>\n",
       "      <td>0.000000</td>\n",
       "    </tr>\n",
       "    <tr>\n",
       "      <th>22</th>\n",
       "      <td>horainicio</td>\n",
       "      <td>0</td>\n",
       "      <td>0.000000</td>\n",
       "    </tr>\n",
       "  </tbody>\n",
       "</table>\n",
       "</div>"
      ],
      "text/plain": [
       "           Variable  Faltantes  Proporcion\n",
       "15    calle_hechos2     181385   63.278841\n",
       "9              edad     104599   36.490909\n",
       "8              sexo      60482   21.100040\n",
       "13    coloniahechos      10033    3.500160\n",
       "2          longitud       9998    3.487950\n",
       "1           latitud       9998    3.487950\n",
       "19         geopoint       9998    3.487950\n",
       "11      tipopersona       3082    1.075201\n",
       "14     calle_hechos        597    0.208272\n",
       "17       fechahecho        239    0.083379\n",
       "5         horahecho        239    0.083379\n",
       "4         mes_hecho        239    0.083379\n",
       "3         ano_hecho        239    0.083379\n",
       "12   alcaldiahechos          1    0.000349\n",
       "20       ano_inicio          0    0.000000\n",
       "21       mes_inicio          0    0.000000\n",
       "18      fechainicio          0    0.000000\n",
       "0         idcarpeta          0    0.000000\n",
       "16      competencia          0    0.000000\n",
       "10  calidadjuridica          0    0.000000\n",
       "7            delito          0    0.000000\n",
       "6         categoria          0    0.000000\n",
       "22       horainicio          0    0.000000"
      ]
     },
     "execution_count": 15,
     "metadata": {},
     "output_type": "execute_result"
    }
   ],
   "source": [
    "#Verificar faltantes\n",
    "\n",
    "delitos_incompletos = pd.DataFrame(delitos.isnull().sum()).reset_index()\n",
    "#columns =  [[\"Variable\", \"Faltantes\"]]\n",
    "delitos_incompletos.columns = [\"Variable\", \"Faltantes\"]\n",
    "\n",
    "delitos_incompletos[\"Proporcion\"] = (delitos_incompletos.Faltantes/286644)*100\n",
    "delitos_incompletos.sort_values(by= \"Proporcion\", ascending=False)"
   ]
  },
  {
   "cell_type": "code",
   "execution_count": null,
   "metadata": {
    "scrolled": true
   },
   "outputs": [],
   "source": [
    "#Delitos agrupados\n",
    "\n",
    "#delitos.groupby([\"categoria\", \"delito\"]).sum().reset_index()"
   ]
  },
  {
   "cell_type": "markdown",
   "metadata": {},
   "source": [
    "# Limpiamos\n"
   ]
  },
  {
   "cell_type": "code",
   "execution_count": 16,
   "metadata": {},
   "outputs": [],
   "source": [
    "#Tirmos variables que no nos son relevantes\n",
    "delitos.drop([\"calle_hechos2\", \"tipopersona\", 'idcarpeta', 'calidadjuridica',\n",
    "              'ano_inicio', 'mes_inicio','horainicio', 'fechainicio', \"competencia\"], axis=1, inplace=True)"
   ]
  },
  {
   "cell_type": "code",
   "execution_count": 17,
   "metadata": {},
   "outputs": [],
   "source": [
    "#Después tiramos todos los NA\n",
    "delitos.dropna(inplace=True)"
   ]
  },
  {
   "cell_type": "code",
   "execution_count": 18,
   "metadata": {},
   "outputs": [
    {
     "data": {
      "text/plain": [
       "array([2018., 2019., 2016., 1983., 2017., 2012., 2010., 2015., 1998.,\n",
       "       2008., 2014., 2013., 1995., 2001., 2006., 1981., 1987., 2011.,\n",
       "       2002., 2007., 2009., 1999., 1972., 1992., 2004., 1986., 1996.,\n",
       "       2003., 2005., 1985., 1971., 1984., 1989., 1974., 1969., 1994.,\n",
       "       1968., 1975., 1997., 2020., 1991., 2000., 1990., 1982.])"
      ]
     },
     "execution_count": 18,
     "metadata": {},
     "output_type": "execute_result"
    }
   ],
   "source": [
    "#Limpiando ano_hecho\n",
    "delitos.ano_hecho.unique() #hay nan"
   ]
  },
  {
   "cell_type": "code",
   "execution_count": 19,
   "metadata": {},
   "outputs": [
    {
     "data": {
      "text/plain": [
       "0"
      ]
     },
     "execution_count": 19,
     "metadata": {},
     "output_type": "execute_result"
    }
   ],
   "source": [
    "delitos.latitud.isnull().sum()"
   ]
  },
  {
   "cell_type": "code",
   "execution_count": 20,
   "metadata": {},
   "outputs": [
    {
     "data": {
      "text/plain": [
       "0"
      ]
     },
     "execution_count": 20,
     "metadata": {},
     "output_type": "execute_result"
    }
   ],
   "source": [
    "delitos.latitud.isnull().sum()"
   ]
  },
  {
   "cell_type": "code",
   "execution_count": 21,
   "metadata": {},
   "outputs": [
    {
     "data": {
      "text/plain": [
       "0"
      ]
     },
     "execution_count": 21,
     "metadata": {},
     "output_type": "execute_result"
    }
   ],
   "source": [
    "delitos.mes_hecho.unique()\n",
    "delitos.latitud.isnull().sum()"
   ]
  },
  {
   "cell_type": "code",
   "execution_count": 22,
   "metadata": {},
   "outputs": [
    {
     "data": {
      "text/plain": [
       "0"
      ]
     },
     "execution_count": 22,
     "metadata": {},
     "output_type": "execute_result"
    }
   ],
   "source": [
    "#delitos.horahecho.unique()\n",
    "delitos.horahecho.isnull().sum()"
   ]
  },
  {
   "cell_type": "code",
   "execution_count": 23,
   "metadata": {},
   "outputs": [
    {
     "data": {
      "text/plain": [
       "array(['ROBO DE VEHICULO CON Y SIN VIOLENCIA',\n",
       "       'ROBO A TRANSEUNTE EN VIA PUBLICA CON Y SIN VIOLENCIA',\n",
       "       'DELITO DE BAJO IMPACTO', 'HOMICIDIO DOLOSO', 'HECHO NO DELICTIVO',\n",
       "       'VIOLACION', 'ROBO A NEGOCIO CON VIOLENCIA',\n",
       "       'ROBO A PASAJERO A BORDO DE TAXI CON VIOLENCIA',\n",
       "       'ROBO A PASAJERO A BORDO DEL METRO CON Y SIN VIOLENCIA',\n",
       "       'ROBO A CASA HABITACION CON VIOLENCIA',\n",
       "       'LESIONES DOLOSAS POR DISPARO DE ARMA DE FUEGO',\n",
       "       'ROBO A PASAJERO A BORDO DE MICROBUS CON Y SIN VIOLENCIA',\n",
       "       'ROBO A REPARTIDOR CON Y SIN VIOLENCIA',\n",
       "       'ROBO A CUENTAHABIENTE SALIENDO DEL CAJERO CON VIOLENCIA',\n",
       "       'SECUESTRO', 'ROBO A TRANSPORTISTA CON Y SIN VIOLENCIA'],\n",
       "      dtype=object)"
      ]
     },
     "execution_count": 23,
     "metadata": {},
     "output_type": "execute_result"
    }
   ],
   "source": [
    "delitos.categoria.unique()\n",
    "#delitos.categoria.isnull().sum()"
   ]
  },
  {
   "cell_type": "code",
   "execution_count": 24,
   "metadata": {},
   "outputs": [
    {
     "data": {
      "text/plain": [
       "0"
      ]
     },
     "execution_count": 24,
     "metadata": {},
     "output_type": "execute_result"
    }
   ],
   "source": [
    "#delitos.delito.unique()\n",
    "\n",
    "delitos.categoria.isnull().sum()"
   ]
  },
  {
   "cell_type": "code",
   "execution_count": 25,
   "metadata": {},
   "outputs": [
    {
     "data": {
      "text/plain": [
       "Masculino    96057\n",
       "Femenino     78670\n",
       "Name: sexo, dtype: int64"
      ]
     },
     "execution_count": 25,
     "metadata": {},
     "output_type": "execute_result"
    }
   ],
   "source": [
    "#Sexo\n",
    "\n",
    "delitos.sexo.unique()\n",
    "delitos = delitos[delitos[\"sexo\"] != \"No se especifica\"] #tenemos 188 casos no se especifica. Los tiramos\n",
    "delitos.sexo.value_counts() "
   ]
  },
  {
   "cell_type": "code",
   "execution_count": 26,
   "metadata": {},
   "outputs": [],
   "source": [
    "#delitos.edad.unique() #tenemos valores que no están bien como 258 y 369, los tiramos\n",
    "\n",
    "#delitos.edad.isnull().sum()\n",
    "delitos.edad.value_counts()\n",
    "delitos = delitos[delitos[\"edad\"] < 112]"
   ]
  },
  {
   "cell_type": "code",
   "execution_count": 27,
   "metadata": {},
   "outputs": [
    {
     "data": {
      "text/plain": [
       "IZTAPALAPA                27587\n",
       "CUAUHTEMOC                22416\n",
       "GUSTAVO A MADERO          18748\n",
       "BENITO JUAREZ             14830\n",
       "ALVARO OBREGON            12617\n",
       "COYOACAN                  12236\n",
       "TLALPAN                   11114\n",
       "MIGUEL HIDALGO            10601\n",
       "VENUSTIANO CARRANZA        9651\n",
       "AZCAPOTZALCO               8430\n",
       "IZTACALCO                  8256\n",
       "XOCHIMILCO                 5919\n",
       "TLAHUAC                    4932\n",
       "LA MAGDALENA CONTRERAS     3558\n",
       "CUAJIMALPA DE MORELOS      2388\n",
       "MILPA ALTA                 1442\n",
       "Name: alcaldiahechos, dtype: int64"
      ]
     },
     "execution_count": 27,
     "metadata": {},
     "output_type": "execute_result"
    }
   ],
   "source": [
    "#delitos.alcaldiahechos.unique()\n",
    "delitos.alcaldiahechos.value_counts()"
   ]
  },
  {
   "cell_type": "code",
   "execution_count": 28,
   "metadata": {},
   "outputs": [],
   "source": [
    "#delitos.coloniahechos.unique()\n",
    "\n",
    "#CUIDADO, ESTO TARDA MUCHO, PERO ORDENA LA BASE DE DATOS ALFABETICAMENTE\n",
    "delitos_ord = delitos.groupby([\"alcaldiahechos\",\"coloniahechos\", \"calle_hechos\"]).sum().reset_index()\n",
    "#delitos_ord"
   ]
  },
  {
   "cell_type": "code",
   "execution_count": null,
   "metadata": {},
   "outputs": [],
   "source": [
    "#Sacamos sumatoria de delitos por calle\n",
    "\n",
    "#delitos.calle_hechos.value_counts()"
   ]
  },
  {
   "cell_type": "code",
   "execution_count": null,
   "metadata": {
    "scrolled": true
   },
   "outputs": [],
   "source": [
    "#Delitos por hechos\n",
    "\n",
    "#delitos.fechahecho.value_counts()"
   ]
  },
  {
   "cell_type": "code",
   "execution_count": 29,
   "metadata": {},
   "outputs": [
    {
     "name": "stdout",
     "output_type": "stream",
     "text": [
      "<class 'pandas.core.frame.DataFrame'>\n",
      "Int64Index: 174725 entries, 3 to 286643\n",
      "Data columns (total 14 columns):\n",
      "latitud           174725 non-null float64\n",
      "longitud          174725 non-null float64\n",
      "ano_hecho         174725 non-null float64\n",
      "mes_hecho         174725 non-null object\n",
      "horahecho         174725 non-null object\n",
      "categoria         174725 non-null object\n",
      "delito            174725 non-null object\n",
      "sexo              174725 non-null object\n",
      "edad              174725 non-null float64\n",
      "alcaldiahechos    174725 non-null object\n",
      "coloniahechos     174725 non-null object\n",
      "calle_hechos      174725 non-null object\n",
      "fechahecho        174725 non-null object\n",
      "geopoint          174725 non-null object\n",
      "dtypes: float64(4), object(10)\n",
      "memory usage: 20.0+ MB\n"
     ]
    }
   ],
   "source": [
    "#Una vez limpias las variables hacemos un .info\n",
    "delitos.info() #nos quedamos con 174,725 delitos"
   ]
  },
  {
   "cell_type": "markdown",
   "metadata": {},
   "source": [
    "# Recodificamos variables porque son muchas"
   ]
  },
  {
   "cell_type": "code",
   "execution_count": null,
   "metadata": {},
   "outputs": [],
   "source": [
    "#Vamos a recodificar edad en grupos quinquenales\n",
    "\n",
    "#delitos[\"edad_coded\"] = np.where(delitos.edad <= 10, \"0-10\", \"Por asignar\")\n",
    "#delitos[\"edad_coded\"] = np.where((delitos.edad > 10) & (delitos.edad <= 15), \"10-15\", delitos.edad_coded)\n",
    "#delitos[\"edad_coded\"] = np.where((delitos.edad > 15) & (delitos.edad <= 20), \"15-20\", delitos.edad_coded)\n",
    "\n",
    "#Esto funciona, pero vamos a intentar hacerlo en sólo una linea. Ejemplo de cómo hacerlo\n",
    "#np.where(consumption_energy > 400, 'high', (np.where(consumption_energy < 200, 'low', 'medium'))\n",
    "\n",
    "#Recuerda que la codificación de arriva sólo funciona renglón por renglón. Si quieres codificar todo hay que \n",
    "#hacerlo usando este chunk de código.\n",
    "\n",
    "#delitos[\"edad_coded\"] = np.where((delitos.edad <=10), \"0-10\",\n",
    "#                                 (np.where((delitos.edad >10) & (delitos.edad <= 15), \"11-15\",\n",
    "#                                           (np.where((delitos.edad >15) & (delitos.edad <= 20), \"16-20\",\n",
    "#                                                     (np.where((delitos.edad >20) & (delitos.edad <= 25), \"21-25\",\n",
    "#                                                               (np.where((delitos.edad >25) & (delitos.edad <= 30), \"26-30\",\n",
    "#                                                                         (np.where((delitos.edad >30) & (delitos.edad <= 35), \"31-35\",\n",
    "#                                                                                   (np.where((delitos.edad >35) & (delitos.edad <= 40), \"36-40\",\n",
    "#                                                                                             (np.where((delitos.edad >40) & (delitos.edad <= 45), \"41-45\",\n",
    "#                                                                                                       (np.where((delitos.edad >45) & (delitos.edad <= 50), \"46-50\",\n",
    "#                                                                                                                 (np.where((delitos.edad >50) & (delitos.edad <= 55), \"51-55\",\n",
    "#                                                                                                                           (np.where((delitos.edad >55) & (delitos.edad <= 60), \"56-60\",\n",
    "#                                                                                                                                     (np.where((delitos.edad >60) & (delitos.edad <= 65), \"61-65\", #hasta aqui corre\n",
    "#                                                                                                                                               (np.where((delitos.edad >65) & (delitos.edad <= 70), \"65-70\", \n",
    "#                                                                                                                                               (np.where(delitos.edad > 70, \"70+\", \"otro\"\n",
    "#                                                                                                                                               )))))))))))))))))))))))))))\n",
    "#Se verifica que no se hayan perdido valores. Deben ser 174725\n",
    "#print(delitos.edad_coded.value_counts())                                                                                                                                              \n",
    "#print(F'La extensión de la variable es {len(delitos.edad_coded)} observaciones') \n",
    "                                                                                                                                                                      "
   ]
  },
  {
   "cell_type": "markdown",
   "metadata": {},
   "source": [
    "Codificar variable delito"
   ]
  },
  {
   "cell_type": "code",
   "execution_count": 30,
   "metadata": {},
   "outputs": [],
   "source": [
    "#Codificamos la variable delitos\n",
    "\n",
    "delitos.loc[delitos[\"delito\"].str.contains(\"AMENAZAS\"), \"categoria\"] = \"AMENAZAS\"\n",
    "delitos.loc[delitos[\"delito\"].str.contains(\"VIOLENCIA FAMILIAR\"), \"categoria\"] = \"VIOLENCIA FAMILIAR\"\n",
    "delitos.loc[delitos[\"delito\"].str.contains(\"DANO EN PROPIEDAD AJENA\"), \"categoria\"] = \"DANO PROPIEDAD AJENA\"\n",
    "delitos.loc[delitos[\"delito\"].str.contains(\"ABUSO DE CONFIANZA\"), \"categoria\"] = \"ABUSO DE CONFIANZA\"\n",
    "delitos.loc[delitos[\"delito\"].str.contains(\"ENCUBRIMIENTO POR FAVORECIMIENTO Y RECEPTACION\"), \"categoria\"] = \"ENCUBRIMIENTO POR FAVORECIMIENTO Y RECEPTACION\"\n",
    "delitos.loc[delitos[\"delito\"].str.contains(\"EXTORSION\"), \"categoria\"] = \"EXTORSION\"\n",
    "delitos.loc[delitos[\"delito\"].str.contains(\"FALSIFICACION O ALTERACION Y USO INDEBIDO DE DOCUMENTOS\"), \"categoria\"] = \"FALSIFICACION O ALTERACION Y USO INDEBIDO DE DOCUMENTOS\"\n",
    "delitos.loc[delitos[\"delito\"].str.contains(\"FRAUDE\"), \"categoria\"] = \"FRAUDE\"\n",
    "delitos.loc[delitos[\"delito\"].str.contains(\"HOMICIDIO CULPOSO\"), \"categoria\"] = \"HOMICIDIO CULPOSO\"\n",
    "delitos.loc[delitos[\"delito\"].str.contains(\"ABUSO DE AUTORIDAD Y USO ILEGAL DE LA FUERZA PUBLICA\"), \"categoria\"] = \"ABUSO DE AUTORIDAD Y USO ILEGAL DE LA FUERZA PUBLICA\"\n",
    "delitos.loc[delitos[\"delito\"].str.contains(\"DESPOJO\"), \"categoria\"] = \"DESPOJO\"\n",
    "delitos.loc[delitos[\"delito\"].str.contains(\"LESIONES CULPOSAS\"), \"categoria\"] = \"LESIONES CULPOSAS\"\n",
    "delitos.loc[delitos[\"delito\"].str.contains(\"LESIONES INTENCIONALES\"), \"categoria\"] = \"LESIONES INTENCIONALES\"\n",
    "delitos.loc[delitos[\"delito\"].str.contains(\"NARCOMENUDEO\"), \"categoria\"] = \"NARCOMENUDEO\"\n",
    "delitos.loc[delitos[\"delito\"].str.contains(\"PRODUCCION, IMPRESION, ENAJENACION, DISTRIBUCION,\"), \"categoria\"] = \"IMPRESION O FALSIFICACION DE TITULOS AL PORTADOR Y DOCUMENTOS DE CREDITO PUBLICOS\"\n",
    "delitos.loc[delitos[\"delito\"].str.contains(\"ROBO A CASA HABITACION\"), \"categoria\"] = \"ROBO A CASA HABITACION\"\n",
    "delitos.loc[delitos[\"delito\"].str.contains(\"ROBO A NEGOCIO\"), \"categoria\"] = \"ROBO A NEGOCIO\"\n",
    "delitos.loc[delitos[\"delito\"].str.contains(\"ROBO A PASAJERO\"), \"categoria\"] = \"ROBO A PASAJERO\"\n",
    "delitos.loc[delitos[\"delito\"].str.contains(\"ROBO A TRANSEUNTE\"), \"categoria\"] = \"ROBO A PASAJERO\"\n",
    "delitos.loc[delitos[\"delito\"].str.contains(\"ROBO DE ACCESORIOS DE AUTO\"), \"categoria\"] = \"ROBO DE ACCESORIOS DE AUTO\"\n",
    "delitos.loc[delitos[\"delito\"].str.contains(\"ROBO DE\"), \"categoria\"] = \"ROBO DE OBJETOS Y DOCUMENTOS\"\n",
    "delitos.loc[delitos[\"delito\"].str.contains(\"ROBO DE ACCESORIOS DE AUTO\"), \"categoria\"] = \"ROBO DE ACCESORIOS DE AUTO\"\n",
    "delitos.loc[delitos[\"delito\"].str.contains(\"USURPACION DE\"), \"categoria\"] = \"USURPACION DE IDENTIDAD\"\n",
    "delitos.loc[delitos[\"delito\"].str.contains(\"EXTORSION\"), \"categoria\"] = \"EXTORSION Y TENTATIVA DE EXTORSION\"\n",
    "delitos.loc[delitos[\"delito\"].str.contains(\"PERDIDA DE LA VIDA\"), \"categoria\"] = \"PERDIDA DE LA VIDA POR HECHOS NO DELICTIVOS\"\n",
    "delitos.loc[delitos[\"delito\"].str.contains(\"ROBO A NEGOCIO CON VIOLENCIA\"), \"categoria\"] = \"ROBO A NEGOCIO\"\n",
    "delitos.loc[delitos[\"delito\"].str.contains(\"ROBO A REPARTIDOR CON Y SIN VIOLENCIA\"), \"categoria\"] = \"ROBO A TRANSPORTISTA/REPARTIDOR\"\n",
    "delitos.loc[delitos[\"delito\"].str.contains(\"ROBO A TRANSPORTISTA CON Y SIN VIOLENCIA\"), \"categoria\"] = \"ROBO A TRANSPORTISTA/REPARTIDOR\"\n",
    "\n",
    "delitos[\"categoria\"] = np.where((delitos.delito == \"ABUSO SEXUAL\") | (delitos.delito == \"ACOSO SEXUAL\")\n",
    "                             ,  \"ACOSO SEXUAL\", delitos.categoria)\n",
    "\n"
   ]
  },
  {
   "cell_type": "code",
   "execution_count": 31,
   "metadata": {},
   "outputs": [],
   "source": [
    "#Segunda ronda de simplificación\n",
    "delitos.loc[delitos[\"delito\"].str.contains(\"NARCOMENUDEO\"), \"categoria\"] = \"DELITO DE BAJO IMPACTO\"\n",
    "delitos.loc[delitos[\"delito\"].str.contains(\"ROBO A TRANSPORTISTA/REPARTIDOR\"), \"categoria\"] = \"DELITO DE BAJO IMPACTO\"\n",
    "delitos.loc[delitos[\"delito\"].str.contains(\"ENCUBRIMIENTO POR FAVORECIMIENTO Y RECEPTACION\"), \"categoria\"] = \"DELITO DE BAJO IMPACTO\"\n",
    "delitos.loc[delitos[\"delito\"].str.contains(\"SECUESTRO\"), \"categoria\"] = \"DELITO DE BAJO IMPACTO\"\n"
   ]
  },
  {
   "cell_type": "code",
   "execution_count": 32,
   "metadata": {},
   "outputs": [],
   "source": [
    "#Tercera ronda si,plificacion\n",
    "delitos.loc[delitos[\"delito\"].str.contains(\"ROBO A TRANSPORTISTA CON Y SIN VIOLENCIA\"), \"categoria\"] = \"DELITO DE BAJO IMPACTO\"\n",
    "delitos.loc[delitos[\"delito\"].str.contains(\"ROBO A NEGOCIO CON VIOLENCIA\"), \"categoria\"] = \"ROBO A NEGOCIO\""
   ]
  },
  {
   "cell_type": "code",
   "execution_count": 33,
   "metadata": {},
   "outputs": [
    {
     "data": {
      "text/plain": [
       "array(['ROBO DE OBJETOS Y DOCUMENTOS', 'ROBO A PASAJERO',\n",
       "       'DANO PROPIEDAD AJENA', 'HOMICIDIO DOLOSO',\n",
       "       'ROBO A CASA HABITACION', 'HECHO NO DELICTIVO', 'VIOLACION',\n",
       "       'LESIONES CULPOSAS', 'VIOLENCIA FAMILIAR',\n",
       "       'LESIONES INTENCIONALES', 'FRAUDE', 'ROBO A NEGOCIO',\n",
       "       'ROBO DE ACCESORIOS DE AUTO', 'AMENAZAS',\n",
       "       'IMPRESION O FALSIFICACION DE TITULOS AL PORTADOR Y DOCUMENTOS DE CREDITO PUBLICOS',\n",
       "       'DESPOJO', 'EXTORSION Y TENTATIVA DE EXTORSION',\n",
       "       'PERDIDA DE LA VIDA POR HECHOS NO DELICTIVOS',\n",
       "       'FALSIFICACION O ALTERACION Y USO INDEBIDO DE DOCUMENTOS',\n",
       "       'DELITO DE BAJO IMPACTO', 'ABUSO DE CONFIANZA',\n",
       "       'USURPACION DE IDENTIDAD', 'ACOSO SEXUAL',\n",
       "       'ROBO A REPARTIDOR CON Y SIN VIOLENCIA',\n",
       "       'ABUSO DE AUTORIDAD Y USO ILEGAL DE LA FUERZA PUBLICA',\n",
       "       'HOMICIDIO CULPOSO', 'ROBO A TRANSPORTISTA CON Y SIN VIOLENCIA',\n",
       "       'ROBO A NEGOCIO CON VIOLENCIA'], dtype=object)"
      ]
     },
     "execution_count": 33,
     "metadata": {},
     "output_type": "execute_result"
    }
   ],
   "source": [
    "delitos.categoria.unique()"
   ]
  },
  {
   "cell_type": "code",
   "execution_count": 34,
   "metadata": {},
   "outputs": [
    {
     "data": {
      "text/plain": [
       "<matplotlib.axes._subplots.AxesSubplot at 0x1615705c908>"
      ]
     },
     "execution_count": 34,
     "metadata": {},
     "output_type": "execute_result"
    },
    {
     "data": {
      "image/png": "[encoded data removed]",
      "text/plain": [
       "<Figure size 576x576 with 1 Axes>"
      ]
     },
     "metadata": {
      "needs_background": "light"
     },
     "output_type": "display_data"
    }
   ],
   "source": [
    "delitos.categoria.value_counts().plot(kind=\"bar\", figsize=(8,8))"
   ]
  },
  {
   "cell_type": "markdown",
   "metadata": {},
   "source": [
    "Finalmente, vamos a igualar la variable categoría a delito (esto porque los demás códigos ya se hicieron con delito)\n",
    "\n"
   ]
  },
  {
   "cell_type": "code",
   "execution_count": 35,
   "metadata": {},
   "outputs": [],
   "source": [
    "delitos.delito = delitos.categoria"
   ]
  },
  {
   "cell_type": "code",
   "execution_count": 36,
   "metadata": {},
   "outputs": [],
   "source": [
    "#Como no lo cambia, vamos a dropear ROBO A TRANSPORTISTA CON Y SIN VIOLENCIA''ROBO A NEGOCIO CON VIOLENCIA'\n",
    "\n",
    "delitos = delitos[delitos.categoria != \"ROBO A TRANSPORTISTA CON Y SIN VIOLENCIA\"]\n",
    "delitos = delitos[delitos.categoria != \"ROBO A NEGOCIO CON VIOLENCIA\"]"
   ]
  },
  {
   "cell_type": "code",
   "execution_count": 37,
   "metadata": {},
   "outputs": [
    {
     "data": {
      "text/plain": [
       "<matplotlib.axes._subplots.AxesSubplot at 0x1615e0949e8>"
      ]
     },
     "execution_count": 37,
     "metadata": {},
     "output_type": "execute_result"
    },
    {
     "data": {
      "image/png": "[encoded data removed]",
      "text/plain": [
       "<Figure size 576x576 with 1 Axes>"
      ]
     },
     "metadata": {
      "needs_background": "light"
     },
     "output_type": "display_data"
    }
   ],
   "source": [
    "#Verificamos que sirva al volver a hacer el gráfico, pero esta vez con delito en lugar de categoria\n",
    "\n",
    "delitos.delito.value_counts().plot(kind=\"bar\", figsize=(8,8))"
   ]
  },
  {
   "cell_type": "markdown",
   "metadata": {},
   "source": [
    "Trabajando con diccionarios (alternativa al np.where())\n",
    "\n",
    "Esta parte no es relevante, pero la voy a dejar porque es una parte útil "
   ]
  },
  {
   "cell_type": "code",
   "execution_count": null,
   "metadata": {},
   "outputs": [],
   "source": [
    "#Vamos a crear un diccionario\n",
    "#delito_dict = {'ABORTO':\"Aborto\", \n",
    "#               'CONTRA FUNCIONARIOS PUBLICOS':\"Abuso de autoridad\",\n",
    "#               'DANO EN PROPIEDAD AJENA INTENCIONAL A AUTOMOVIL':'Daño en propiedad',\n",
    "#               'DANO EN PROPIEDAD AJENA CULPOSA': 'Daño en propiedad'\n",
    "#              }\n",
    "\n",
    "#delito_dict\n",
    "#delitos['prueba'] = delitos.delito.map(delito_dict)\n",
    "#delitos[delitos.delito == 'DANO EN PROPIEDAD AJENA CULPOSA']"
   ]
  },
  {
   "cell_type": "code",
   "execution_count": null,
   "metadata": {},
   "outputs": [],
   "source": [
    "#Ahora trabajaremos con los valores de delito\n",
    "\n",
    "#Esta gráfica tarda mucho en producir\n",
    "#delitos.delito.value_counts().plot(kind=\"bar\", figsize=(40,20))"
   ]
  },
  {
   "cell_type": "markdown",
   "metadata": {},
   "source": [
    "Trabajamos variable horas"
   ]
  },
  {
   "cell_type": "code",
   "execution_count": 38,
   "metadata": {},
   "outputs": [],
   "source": [
    "#Trabajamos las horas en las que ocurrió el crimen. \n",
    "\n",
    "#Para eso creamos una nueva variable\n",
    "delitos[\"horahecho\"] = pd.to_datetime(delitos[\"horahecho\"])"
   ]
  },
  {
   "cell_type": "code",
   "execution_count": 39,
   "metadata": {},
   "outputs": [
    {
     "data": {
      "text/plain": [
       "array([22,  0,  1,  3,  6,  7,  4, 10, 14,  5,  9, 11, 19, 18, 15, 13, 12,\n",
       "       20,  8,  2, 16, 21, 17, 23], dtype=int64)"
      ]
     },
     "execution_count": 39,
     "metadata": {},
     "output_type": "execute_result"
    }
   ],
   "source": [
    "#Después generamos una variable de hora\n",
    "delitos[\"hora\"] = delitos.horahecho.dt.hour\n",
    "delitos.hora.unique()"
   ]
  },
  {
   "cell_type": "code",
   "execution_count": 40,
   "metadata": {},
   "outputs": [
    {
     "name": "stdout",
     "output_type": "stream",
     "text": [
      "12    13944\n",
      "15    10203\n",
      "14    10196\n",
      "20    10189\n",
      "10     9867\n",
      "13     9550\n",
      "16     9543\n",
      "11     9468\n",
      "18     9437\n",
      "19     9249\n",
      "21     9131\n",
      "17     8842\n",
      "22     7905\n",
      "9      7782\n",
      "8      6835\n",
      "23     6081\n",
      "7      5642\n",
      "6      4150\n",
      "0      3484\n",
      "1      3157\n",
      "5      2773\n",
      "2      2606\n",
      "3      2462\n",
      "4      2163\n",
      "Name: hora, dtype: int64\n",
      "174659\n"
     ]
    }
   ],
   "source": [
    "#Verfiicamos que esté bien\n",
    "print(delitos.hora.value_counts())\n",
    "print(len(delitos.hora)) #todo está bien"
   ]
  },
  {
   "cell_type": "markdown",
   "metadata": {},
   "source": [
    "Finalmente, el día de la semana en la que ocurre el crimen"
   ]
  },
  {
   "cell_type": "code",
   "execution_count": 41,
   "metadata": {},
   "outputs": [],
   "source": [
    "#Finalmente trabajos el día de la semana en el que pasa el crimen\n",
    "\n",
    "#Ejemplo\n",
    "\n",
    "#df['my_dates'] = pd.to_datetime(df['my_dates'])\n",
    "#df['day_of_week'] = df['my_dates'].dt.day_name()\n",
    "\n",
    "delitos[\"fechahecho\"] = pd.to_datetime(delitos[\"fechahecho\"])\n",
    "delitos[\"dia_semana\"] = delitos[\"fechahecho\"].dt.day_name()"
   ]
  },
  {
   "cell_type": "code",
   "execution_count": 42,
   "metadata": {},
   "outputs": [
    {
     "data": {
      "text/plain": [
       "Tuesday      25878\n",
       "Wednesday    25682\n",
       "Friday       25670\n",
       "Thursday     25188\n",
       "Monday       25013\n",
       "Saturday     24282\n",
       "Sunday       22946\n",
       "Name: dia_semana, dtype: int64"
      ]
     },
     "execution_count": 42,
     "metadata": {},
     "output_type": "execute_result"
    }
   ],
   "source": [
    "delitos.dia_semana.value_counts()"
   ]
  },
  {
   "cell_type": "code",
   "execution_count": 43,
   "metadata": {},
   "outputs": [],
   "source": [
    "#Codificamos la variable día\n",
    "delitos[\"dia_seman_cod\"] = np.where((delitos.dia_semana== \"Monday\") | (delitos.dia_semana== \"Tuesday\")\n",
    "                                    | (delitos.dia_semana== \"Wednesday\") | (delitos.dia_semana== \"Thursday\"),\"Weekday\",\n",
    "                                        (np.where((delitos.dia_semana== \"Friday\") | (delitos.dia_semana== \"Saturday\")\n",
    "                                         | (delitos.dia_semana== \"Sunday\"), \"Friday-Weekend\", delitos.dia_semana)))"
   ]
  },
  {
   "cell_type": "code",
   "execution_count": 44,
   "metadata": {},
   "outputs": [
    {
     "data": {
      "text/plain": [
       "Weekday           101761\n",
       "Friday-Weekend     72898\n",
       "Name: dia_seman_cod, dtype: int64"
      ]
     },
     "execution_count": 44,
     "metadata": {},
     "output_type": "execute_result"
    }
   ],
   "source": [
    "delitos.dia_seman_cod.value_counts()"
   ]
  },
  {
   "cell_type": "markdown",
   "metadata": {},
   "source": [
    "Limpiamos la base  y la exportamos para poder hacer los mapas y las gráficas en tableau"
   ]
  },
  {
   "cell_type": "code",
   "execution_count": null,
   "metadata": {},
   "outputs": [],
   "source": [
    "delitos.to_csv(r'C:/Users/Ramiro Antonio/Documents/ironhack_labs/capstone/Delitos_limpio_tableau2.csv')"
   ]
  },
  {
   "cell_type": "markdown",
   "metadata": {},
   "source": [
    "Tiramos las variables que no nos sirven"
   ]
  },
  {
   "cell_type": "code",
   "execution_count": 45,
   "metadata": {},
   "outputs": [
    {
     "data": {
      "text/plain": [
       "Index(['latitud', 'longitud', 'ano_hecho', 'mes_hecho', 'horahecho',\n",
       "       'categoria', 'delito', 'sexo', 'edad', 'alcaldiahechos',\n",
       "       'coloniahechos', 'calle_hechos', 'fechahecho', 'geopoint', 'hora',\n",
       "       'dia_semana', 'dia_seman_cod'],\n",
       "      dtype='object')"
      ]
     },
     "execution_count": 45,
     "metadata": {},
     "output_type": "execute_result"
    }
   ],
   "source": [
    "delitos.columns"
   ]
  },
  {
   "cell_type": "code",
   "execution_count": 46,
   "metadata": {},
   "outputs": [],
   "source": [
    "#Finalmente tiramos las variables que ya no nos sirven\n",
    "delitos.drop([\"horahecho\", \"categoria\", \"fechahecho\", \"geopoint\", \"calle_hechos\", \"coloniahechos\"], \n",
    "             axis=1, inplace=True)  # PRUEBA recuerda que tiene que ponersele \"edad\" si no mejoró"
   ]
  },
  {
   "cell_type": "code",
   "execution_count": null,
   "metadata": {},
   "outputs": [],
   "source": [
    "#Tiramos otras variables que no nos sirven tanto\n",
    "#delitos.drop([\"coloniahechos\"], \n",
    "#             axis=1, inplace=True)"
   ]
  },
  {
   "cell_type": "code",
   "execution_count": 47,
   "metadata": {},
   "outputs": [
    {
     "data": {
      "text/plain": [
       "Index(['latitud', 'longitud', 'ano_hecho', 'mes_hecho', 'delito', 'sexo',\n",
       "       'edad', 'alcaldiahechos', 'hora', 'dia_semana', 'dia_seman_cod'],\n",
       "      dtype='object')"
      ]
     },
     "execution_count": 47,
     "metadata": {},
     "output_type": "execute_result"
    }
   ],
   "source": [
    "#Nuestra base final luce así\n",
    "delitos.columns"
   ]
  },
  {
   "cell_type": "markdown",
   "metadata": {},
   "source": [
    "Hacemos el one-hot encoding de las variables delito, sexo, dia_semana, mes_hecho, alcaldiahechos"
   ]
  },
  {
   "cell_type": "code",
   "execution_count": null,
   "metadata": {},
   "outputs": [],
   "source": [
    "#Por el momento no hay que correr esto porque el ONE HOT lo haces en la definición del modelo\n",
    "#delitos_copy= pd.get_dummies(data=delitos,columns=['delito', \"sexo\", \"dia_semana\", \"mes_hecho\", \"alcaldiahechos\",\n",
    "#                                                   \"edad_coded\"])  #,drop_first=True lo quitamos, porque me quita una var\n",
    "#delitos_copy.columns"
   ]
  },
  {
   "cell_type": "markdown",
   "metadata": {},
   "source": [
    "# Verificamos correlaciones"
   ]
  },
  {
   "cell_type": "code",
   "execution_count": null,
   "metadata": {},
   "outputs": [],
   "source": [
    "corr_matrix = delitos_copy.corr().unstack() #Creamos la matri y la volvemos lista\n",
    "sorted_matrix = corr_matrix.sort_values(kind=\"quicksort\", ascending=False) #la ordenamos\n",
    "#print(sorted_matrix.head(100)) #se observa que a partir de los pares iguales la corr mas alta es de 0.5. No hay.\n",
    "#print(sorted_matrix.tail(100)) #me preocupa que hay -1.0 correlación"
   ]
  },
  {
   "cell_type": "markdown",
   "metadata": {},
   "source": [
    "# Creamos el modelo de randomforest"
   ]
  },
  {
   "cell_type": "markdown",
   "metadata": {},
   "source": [
    "Definimos nuestro target, que es la variable delito"
   ]
  },
  {
   "cell_type": "code",
   "execution_count": 48,
   "metadata": {},
   "outputs": [],
   "source": [
    "# 1) delitos_y = delitos.delito\n",
    "\n",
    "#2) #Nuestra y va a ser el delito dummiado\n",
    "#delitos_y = pd.get_dummies(delitos.delito, drop_first = True)\n",
    "\n",
    "# 3) metemos como target delitos_y\n",
    "delitos_y = delitos.delito"
   ]
  },
  {
   "cell_type": "code",
   "execution_count": 49,
   "metadata": {},
   "outputs": [
    {
     "data": {
      "text/plain": [
       "174659"
      ]
     },
     "execution_count": 49,
     "metadata": {},
     "output_type": "execute_result"
    }
   ],
   "source": [
    "len(delitos_y)"
   ]
  },
  {
   "cell_type": "code",
   "execution_count": 50,
   "metadata": {},
   "outputs": [
    {
     "data": {
      "text/plain": [
       "ROBO DE OBJETOS Y DOCUMENTOS                                                         29899\n",
       "ROBO A PASAJERO                                                                      27615\n",
       "VIOLENCIA FAMILIAR                                                                   25667\n",
       "AMENAZAS                                                                             12245\n",
       "DANO PROPIEDAD AJENA                                                                  8775\n",
       "FRAUDE                                                                                8655\n",
       "ROBO DE ACCESORIOS DE AUTO                                                            6927\n",
       "DELITO DE BAJO IMPACTO                                                                6669\n",
       "ROBO A CASA HABITACION                                                                6361\n",
       "IMPRESION O FALSIFICACION DE TITULOS AL PORTADOR Y DOCUMENTOS DE CREDITO PUBLICOS     5246\n",
       "LESIONES INTENCIONALES                                                                4499\n",
       "ROBO A NEGOCIO                                                                        4434\n",
       "ACOSO SEXUAL                                                                          4136\n",
       "LESIONES CULPOSAS                                                                     3844\n",
       "USURPACION DE IDENTIDAD                                                               3036\n",
       "DESPOJO                                                                               2801\n",
       "EXTORSION Y TENTATIVA DE EXTORSION                                                    2679\n",
       "ABUSO DE CONFIANZA                                                                    2383\n",
       "HOMICIDIO DOLOSO                                                                      1797\n",
       "PERDIDA DE LA VIDA POR HECHOS NO DELICTIVOS                                           1754\n",
       "ABUSO DE AUTORIDAD Y USO ILEGAL DE LA FUERZA PUBLICA                                  1720\n",
       "VIOLACION                                                                             1164\n",
       "ROBO A REPARTIDOR CON Y SIN VIOLENCIA                                                  867\n",
       "HOMICIDIO CULPOSO                                                                      537\n",
       "HECHO NO DELICTIVO                                                                     526\n",
       "FALSIFICACION O ALTERACION Y USO INDEBIDO DE DOCUMENTOS                                423\n",
       "Name: delito, dtype: int64"
      ]
     },
     "execution_count": 50,
     "metadata": {},
     "output_type": "execute_result"
    }
   ],
   "source": [
    "delitos_y.value_counts()"
   ]
  },
  {
   "cell_type": "markdown",
   "metadata": {},
   "source": [
    "Definimos todos los features"
   ]
  },
  {
   "cell_type": "code",
   "execution_count": 132,
   "metadata": {},
   "outputs": [],
   "source": [
    "# 1) delitos_copy\n",
    "\n",
    "# 2) Nuestras features x van a ser el resto\n",
    "#delitos_x = pd.get_dummies(delitos, columns = [\"sexo\", \"dia_semana\", \"mes_hecho\", \"alcaldiahechos\",\n",
    "#                                                   \"edad_coded\"], drop_first=True)\n",
    "\n",
    "\n",
    "#delitos_x[\"latitud\"] = delitos.latitud\n",
    "#delitos_x[\"longitud\"] = delitos.longitud\n",
    "#delitos_x[\"ano_hecho\"] = delitos.ano_hecho\n",
    "#delitos_x[\"hora\"] = delitos.hora\n",
    "\n",
    "# 3) Las features serán las mismas que en el pasado (la diferencia está en el target)\n",
    "\n",
    "delitos_x = pd.get_dummies(delitos, columns = [\"mes_hecho\", \"alcaldiahechos\", \"dia_semana\"]) \n",
    "                                            # PRUEBA recuerda aquí agregar edad_coded si no sirve;\n",
    "                                            #  también ponemos \"dia_semana\".\n",
    "                                               #Sin drop_first=True\n",
    "\n",
    "\n",
    "#delitos_x[\"latitud\"] = delitos.latitud\n",
    "#delitos_x[\"longitud\"] = delitos.longitud\n",
    "#delitos_x[\"ano_hecho\"] = delitos.ano_hecho\n",
    "#delitos_x[\"hora\"] = delitos.hora\n",
    "#delitos_x[\"edad\"] = delitos.edad\n"
   ]
  },
  {
   "cell_type": "code",
   "execution_count": 133,
   "metadata": {},
   "outputs": [],
   "source": [
    "#ESTO SI NO FUNCIONA REGRESAS A LA ANTERIOR LA VARIABLE \"SEXO\"\n",
    "delitos_x = pd.get_dummies(delitos_x, columns = [\"sexo\"], drop_first=True) \n"
   ]
  },
  {
   "cell_type": "code",
   "execution_count": 134,
   "metadata": {},
   "outputs": [],
   "source": [
    "#Aqui verificas y tiras lo que no quieres\n",
    "\n",
    "delitos_x.drop([\"delito\", \"dia_seman_cod\"], axis=1, inplace=True) #aqui dropeas según quieras incluir o no"
   ]
  },
  {
   "cell_type": "code",
   "execution_count": 135,
   "metadata": {},
   "outputs": [
    {
     "data": {
      "text/html": [
       "<div>\n",
       "<style scoped>\n",
       "    .dataframe tbody tr th:only-of-type {\n",
       "        vertical-align: middle;\n",
       "    }\n",
       "\n",
       "    .dataframe tbody tr th {\n",
       "        vertical-align: top;\n",
       "    }\n",
       "\n",
       "    .dataframe thead th {\n",
       "        text-align: right;\n",
       "    }\n",
       "</style>\n",
       "<table border=\"1\" class=\"dataframe\">\n",
       "  <thead>\n",
       "    <tr style=\"text-align: right;\">\n",
       "      <th></th>\n",
       "      <th>latitud</th>\n",
       "      <th>longitud</th>\n",
       "      <th>ano_hecho</th>\n",
       "      <th>edad</th>\n",
       "      <th>hora</th>\n",
       "      <th>mes_hecho_Abril</th>\n",
       "      <th>mes_hecho_Agosto</th>\n",
       "      <th>mes_hecho_Diciembre</th>\n",
       "      <th>mes_hecho_Enero</th>\n",
       "      <th>mes_hecho_Febrero</th>\n",
       "      <th>mes_hecho_Julio</th>\n",
       "      <th>mes_hecho_Junio</th>\n",
       "      <th>mes_hecho_Marzo</th>\n",
       "      <th>mes_hecho_Mayo</th>\n",
       "      <th>mes_hecho_Noviembre</th>\n",
       "      <th>mes_hecho_Octubre</th>\n",
       "      <th>mes_hecho_Septiembre</th>\n",
       "      <th>alcaldiahechos_ALVARO OBREGON</th>\n",
       "      <th>alcaldiahechos_AZCAPOTZALCO</th>\n",
       "      <th>alcaldiahechos_BENITO JUAREZ</th>\n",
       "      <th>alcaldiahechos_COYOACAN</th>\n",
       "      <th>alcaldiahechos_CUAJIMALPA DE MORELOS</th>\n",
       "      <th>alcaldiahechos_CUAUHTEMOC</th>\n",
       "      <th>alcaldiahechos_GUSTAVO A MADERO</th>\n",
       "      <th>alcaldiahechos_IZTACALCO</th>\n",
       "      <th>alcaldiahechos_IZTAPALAPA</th>\n",
       "      <th>alcaldiahechos_LA MAGDALENA CONTRERAS</th>\n",
       "      <th>alcaldiahechos_MIGUEL HIDALGO</th>\n",
       "      <th>alcaldiahechos_MILPA ALTA</th>\n",
       "      <th>alcaldiahechos_TLAHUAC</th>\n",
       "      <th>alcaldiahechos_TLALPAN</th>\n",
       "      <th>alcaldiahechos_VENUSTIANO CARRANZA</th>\n",
       "      <th>alcaldiahechos_XOCHIMILCO</th>\n",
       "      <th>dia_semana_Friday</th>\n",
       "      <th>dia_semana_Monday</th>\n",
       "      <th>dia_semana_Saturday</th>\n",
       "      <th>dia_semana_Sunday</th>\n",
       "      <th>dia_semana_Thursday</th>\n",
       "      <th>dia_semana_Tuesday</th>\n",
       "      <th>dia_semana_Wednesday</th>\n",
       "      <th>sexo_Masculino</th>\n",
       "    </tr>\n",
       "  </thead>\n",
       "  <tbody>\n",
       "    <tr>\n",
       "      <th>3</th>\n",
       "      <td>19.39723</td>\n",
       "      <td>-99.20937</td>\n",
       "      <td>2018.0</td>\n",
       "      <td>51.0</td>\n",
       "      <td>22</td>\n",
       "      <td>0</td>\n",
       "      <td>0</td>\n",
       "      <td>1</td>\n",
       "      <td>0</td>\n",
       "      <td>0</td>\n",
       "      <td>0</td>\n",
       "      <td>0</td>\n",
       "      <td>0</td>\n",
       "      <td>0</td>\n",
       "      <td>0</td>\n",
       "      <td>0</td>\n",
       "      <td>0</td>\n",
       "      <td>1</td>\n",
       "      <td>0</td>\n",
       "      <td>0</td>\n",
       "      <td>0</td>\n",
       "      <td>0</td>\n",
       "      <td>0</td>\n",
       "      <td>0</td>\n",
       "      <td>0</td>\n",
       "      <td>0</td>\n",
       "      <td>0</td>\n",
       "      <td>0</td>\n",
       "      <td>0</td>\n",
       "      <td>0</td>\n",
       "      <td>0</td>\n",
       "      <td>0</td>\n",
       "      <td>0</td>\n",
       "      <td>0</td>\n",
       "      <td>1</td>\n",
       "      <td>0</td>\n",
       "      <td>0</td>\n",
       "      <td>0</td>\n",
       "      <td>0</td>\n",
       "      <td>0</td>\n",
       "      <td>1</td>\n",
       "    </tr>\n",
       "    <tr>\n",
       "      <th>5</th>\n",
       "      <td>19.30415</td>\n",
       "      <td>-99.26722</td>\n",
       "      <td>2019.0</td>\n",
       "      <td>45.0</td>\n",
       "      <td>0</td>\n",
       "      <td>0</td>\n",
       "      <td>0</td>\n",
       "      <td>0</td>\n",
       "      <td>1</td>\n",
       "      <td>0</td>\n",
       "      <td>0</td>\n",
       "      <td>0</td>\n",
       "      <td>0</td>\n",
       "      <td>0</td>\n",
       "      <td>0</td>\n",
       "      <td>0</td>\n",
       "      <td>0</td>\n",
       "      <td>0</td>\n",
       "      <td>0</td>\n",
       "      <td>0</td>\n",
       "      <td>0</td>\n",
       "      <td>0</td>\n",
       "      <td>0</td>\n",
       "      <td>0</td>\n",
       "      <td>0</td>\n",
       "      <td>0</td>\n",
       "      <td>1</td>\n",
       "      <td>0</td>\n",
       "      <td>0</td>\n",
       "      <td>0</td>\n",
       "      <td>0</td>\n",
       "      <td>0</td>\n",
       "      <td>0</td>\n",
       "      <td>0</td>\n",
       "      <td>0</td>\n",
       "      <td>0</td>\n",
       "      <td>0</td>\n",
       "      <td>0</td>\n",
       "      <td>1</td>\n",
       "      <td>0</td>\n",
       "      <td>0</td>\n",
       "    </tr>\n",
       "    <tr>\n",
       "      <th>6</th>\n",
       "      <td>19.23199</td>\n",
       "      <td>-99.16634</td>\n",
       "      <td>2019.0</td>\n",
       "      <td>42.0</td>\n",
       "      <td>1</td>\n",
       "      <td>0</td>\n",
       "      <td>0</td>\n",
       "      <td>0</td>\n",
       "      <td>1</td>\n",
       "      <td>0</td>\n",
       "      <td>0</td>\n",
       "      <td>0</td>\n",
       "      <td>0</td>\n",
       "      <td>0</td>\n",
       "      <td>0</td>\n",
       "      <td>0</td>\n",
       "      <td>0</td>\n",
       "      <td>0</td>\n",
       "      <td>0</td>\n",
       "      <td>0</td>\n",
       "      <td>0</td>\n",
       "      <td>0</td>\n",
       "      <td>0</td>\n",
       "      <td>0</td>\n",
       "      <td>0</td>\n",
       "      <td>0</td>\n",
       "      <td>0</td>\n",
       "      <td>0</td>\n",
       "      <td>0</td>\n",
       "      <td>0</td>\n",
       "      <td>1</td>\n",
       "      <td>0</td>\n",
       "      <td>0</td>\n",
       "      <td>0</td>\n",
       "      <td>0</td>\n",
       "      <td>0</td>\n",
       "      <td>0</td>\n",
       "      <td>0</td>\n",
       "      <td>1</td>\n",
       "      <td>0</td>\n",
       "      <td>0</td>\n",
       "    </tr>\n",
       "  </tbody>\n",
       "</table>\n",
       "</div>"
      ],
      "text/plain": [
       "    latitud  longitud  ano_hecho  edad  hora  mes_hecho_Abril  \\\n",
       "3  19.39723 -99.20937     2018.0  51.0    22                0   \n",
       "5  19.30415 -99.26722     2019.0  45.0     0                0   \n",
       "6  19.23199 -99.16634     2019.0  42.0     1                0   \n",
       "\n",
       "   mes_hecho_Agosto  mes_hecho_Diciembre  mes_hecho_Enero  mes_hecho_Febrero  \\\n",
       "3                 0                    1                0                  0   \n",
       "5                 0                    0                1                  0   \n",
       "6                 0                    0                1                  0   \n",
       "\n",
       "   mes_hecho_Julio  mes_hecho_Junio  mes_hecho_Marzo  mes_hecho_Mayo  \\\n",
       "3                0                0                0               0   \n",
       "5                0                0                0               0   \n",
       "6                0                0                0               0   \n",
       "\n",
       "   mes_hecho_Noviembre  mes_hecho_Octubre  mes_hecho_Septiembre  \\\n",
       "3                    0                  0                     0   \n",
       "5                    0                  0                     0   \n",
       "6                    0                  0                     0   \n",
       "\n",
       "   alcaldiahechos_ALVARO OBREGON  alcaldiahechos_AZCAPOTZALCO  \\\n",
       "3                              1                            0   \n",
       "5                              0                            0   \n",
       "6                              0                            0   \n",
       "\n",
       "   alcaldiahechos_BENITO JUAREZ  alcaldiahechos_COYOACAN  \\\n",
       "3                             0                        0   \n",
       "5                             0                        0   \n",
       "6                             0                        0   \n",
       "\n",
       "   alcaldiahechos_CUAJIMALPA DE MORELOS  alcaldiahechos_CUAUHTEMOC  \\\n",
       "3                                     0                          0   \n",
       "5                                     0                          0   \n",
       "6                                     0                          0   \n",
       "\n",
       "   alcaldiahechos_GUSTAVO A MADERO  alcaldiahechos_IZTACALCO  \\\n",
       "3                                0                         0   \n",
       "5                                0                         0   \n",
       "6                                0                         0   \n",
       "\n",
       "   alcaldiahechos_IZTAPALAPA  alcaldiahechos_LA MAGDALENA CONTRERAS  \\\n",
       "3                          0                                      0   \n",
       "5                          0                                      1   \n",
       "6                          0                                      0   \n",
       "\n",
       "   alcaldiahechos_MIGUEL HIDALGO  alcaldiahechos_MILPA ALTA  \\\n",
       "3                              0                          0   \n",
       "5                              0                          0   \n",
       "6                              0                          0   \n",
       "\n",
       "   alcaldiahechos_TLAHUAC  alcaldiahechos_TLALPAN  \\\n",
       "3                       0                       0   \n",
       "5                       0                       0   \n",
       "6                       0                       1   \n",
       "\n",
       "   alcaldiahechos_VENUSTIANO CARRANZA  alcaldiahechos_XOCHIMILCO  \\\n",
       "3                                   0                          0   \n",
       "5                                   0                          0   \n",
       "6                                   0                          0   \n",
       "\n",
       "   dia_semana_Friday  dia_semana_Monday  dia_semana_Saturday  \\\n",
       "3                  0                  1                    0   \n",
       "5                  0                  0                    0   \n",
       "6                  0                  0                    0   \n",
       "\n",
       "   dia_semana_Sunday  dia_semana_Thursday  dia_semana_Tuesday  \\\n",
       "3                  0                    0                   0   \n",
       "5                  0                    0                   1   \n",
       "6                  0                    0                   1   \n",
       "\n",
       "   dia_semana_Wednesday  sexo_Masculino  \n",
       "3                     0               1  \n",
       "5                     0               0  \n",
       "6                     0               0  "
      ]
     },
     "execution_count": 135,
     "metadata": {},
     "output_type": "execute_result"
    }
   ],
   "source": [
    "delitos_x.head(3)"
   ]
  },
  {
   "cell_type": "code",
   "execution_count": 136,
   "metadata": {},
   "outputs": [],
   "source": [
    "#Convertimos en array\n",
    "\n",
    "#Use numpy to convert to arrays\n",
    "\n",
    "# Labels are the values we want to predict (nuestro y) #delitos_y_labels = delitos_y.columns\n",
    "\n",
    "delitos_y = np.array(delitos['delito'])\n",
    "\n",
    "delitos_x_list = list(delitos_x.columns) #guarda los nombres para despupes\n",
    "delitos_x = np.array(delitos_x) #los convierte en array\n",
    "\n",
    "\n",
    "\n",
    "#features= features.drop('actual', axis = 1)# Saving feature names for later use\n",
    "#feature_list = list(features.columns)# Convert to numpy array\n",
    "#features = np.array(features)"
   ]
  },
  {
   "cell_type": "markdown",
   "metadata": {},
   "source": [
    "Dividimos nuestra base de datos para entrenar el modelo"
   ]
  },
  {
   "cell_type": "code",
   "execution_count": 77,
   "metadata": {},
   "outputs": [],
   "source": [
    "from sklearn.model_selection import train_test_split"
   ]
  },
  {
   "cell_type": "code",
   "execution_count": 137,
   "metadata": {},
   "outputs": [],
   "source": [
    "#Separamos el modelo\n",
    "\n",
    "# 1) X_train, X_test, y_train, y_test = train_test_split(delitos_copy, delitos_y, test_size=0.2)\n",
    "\n",
    "X_train, X_test, y_train, y_test = train_test_split(delitos_x, delitos_y, test_size=0.2)"
   ]
  },
  {
   "cell_type": "markdown",
   "metadata": {},
   "source": [
    "Definimos el modelo"
   ]
  },
  {
   "cell_type": "code",
   "execution_count": 79,
   "metadata": {},
   "outputs": [],
   "source": [
    "#Importamos el randomforest\n",
    "\n",
    "from sklearn.ensemble import RandomForestClassifier"
   ]
  },
  {
   "cell_type": "code",
   "execution_count": null,
   "metadata": {},
   "outputs": [],
   "source": [
    "#help(RandomForestClassifier)"
   ]
  },
  {
   "cell_type": "code",
   "execution_count": 138,
   "metadata": {},
   "outputs": [],
   "source": [
    "#Entrenamos el modelo\n",
    "ks_rf = RandomForestClassifier(n_estimators=100).fit(X_train, y_train) #entrenamos el modelo con los dos train"
   ]
  },
  {
   "cell_type": "code",
   "execution_count": 139,
   "metadata": {},
   "outputs": [],
   "source": [
    "#Una vez entrenado el modelo, lo que hacemos es que lo probamos con el test (predecimos y, con el X_test)\n",
    "y_pred_test_randomforest = ks_rf.predict(X_test)"
   ]
  },
  {
   "cell_type": "code",
   "execution_count": 82,
   "metadata": {},
   "outputs": [
    {
     "data": {
      "text/plain": [
       "array(['ROBO A PASAJERO', 'ROBO A PASAJERO',\n",
       "       'ROBO DE OBJETOS Y DOCUMENTOS', ..., 'ROBO A PASAJERO',\n",
       "       'LESIONES CULPOSAS', 'ROBO DE OBJETOS Y DOCUMENTOS'], dtype=object)"
      ]
     },
     "execution_count": 82,
     "metadata": {},
     "output_type": "execute_result"
    }
   ],
   "source": [
    "#clases calculadas\n",
    "y_pred_test_randomforest"
   ]
  },
  {
   "cell_type": "code",
   "execution_count": 140,
   "metadata": {},
   "outputs": [],
   "source": [
    "#Calculamos proba\n",
    "y_pred_test_randomforest_prob = ks_rf.predict_proba(X_test)"
   ]
  },
  {
   "cell_type": "code",
   "execution_count": 84,
   "metadata": {},
   "outputs": [
    {
     "name": "stdout",
     "output_type": "stream",
     "text": [
      "26\n"
     ]
    }
   ],
   "source": [
    "print(len(y_pred_test_randomforest_prob[2]))\n",
    "\n",
    "#Te da una probabilidad por cada categoría en y"
   ]
  },
  {
   "cell_type": "code",
   "execution_count": null,
   "metadata": {},
   "outputs": [],
   "source": [
    "#Proba calculada\n",
    "\n",
    "#np.set_printoptions(threshold=np.inf)\n",
    "#y_pred_test_randomforest_prob"
   ]
  },
  {
   "cell_type": "code",
   "execution_count": 85,
   "metadata": {
    "scrolled": true
   },
   "outputs": [],
   "source": [
    "#Obtenemos el la matriz de confusion\n",
    "from sklearn.metrics import confusion_matrix\n",
    "#confusion_matrix(y_test, y_pred_test_randomforest)"
   ]
  },
  {
   "cell_type": "code",
   "execution_count": 141,
   "metadata": {},
   "outputs": [],
   "source": [
    "#Obtener el score pra probar el fitting del modelo\n",
    "from sklearn.metrics import f1_score"
   ]
  },
  {
   "cell_type": "code",
   "execution_count": 142,
   "metadata": {},
   "outputs": [
    {
     "data": {
      "text/plain": [
       "0.23317377176617088"
      ]
     },
     "execution_count": 142,
     "metadata": {},
     "output_type": "execute_result"
    }
   ],
   "source": [
    "f1_score(y_test, y_pred_test_randomforest , average='weighted') \n",
    "\n",
    "#En la primera prueba hay overfitting\n",
    "#En la segunda prueba no hay overfittin"
   ]
  },
  {
   "cell_type": "code",
   "execution_count": null,
   "metadata": {},
   "outputs": [],
   "source": [
    "#Hacemos la roc curve\n",
    "\n",
    "#from sklearn import metrics\n",
    "#y_pred_proba = ks_rf.predict_proba(X_test)[::,1] \n",
    "#fpr, tpr, _ = metrics.roc_curve(y_test,y_pred_proba)\n",
    "#plt.plot(fpr,tpr)"
   ]
  },
  {
   "cell_type": "markdown",
   "metadata": {},
   "source": [
    "# Naive bayes"
   ]
  },
  {
   "cell_type": "code",
   "execution_count": null,
   "metadata": {},
   "outputs": [],
   "source": [
    "#from sklearn.naive_bayes import GaussianNB"
   ]
  },
  {
   "cell_type": "code",
   "execution_count": null,
   "metadata": {},
   "outputs": [],
   "source": [
    "#nb = GaussianNB()  #creamos modelos\n",
    "#fitnb = nb.fit(X_train, y_train) #Lo entrenamos"
   ]
  },
  {
   "cell_type": "code",
   "execution_count": null,
   "metadata": {},
   "outputs": [],
   "source": [
    "#predictionsnb = fitnb.predict(y_test) #le pasamos el test\n",
    "#y_pred = fitnb.predict(X_test) #se hace con el test o con el train\n",
    "\n",
    "\n",
    "\n",
    "#Esto no, es ejemplo\n",
    "#gnb = GaussianNB()\n",
    "#y_pred = gnb.fit(iris.data, iris.target).predict(iris.data)"
   ]
  },
  {
   "cell_type": "code",
   "execution_count": null,
   "metadata": {},
   "outputs": [],
   "source": [
    "#y_pred"
   ]
  },
  {
   "cell_type": "code",
   "execution_count": null,
   "metadata": {},
   "outputs": [],
   "source": [
    "#from sklearn.metrics import accuracy_score\n",
    "#print('NB Accuracy:', accuracy_score(y_test, y_pred))"
   ]
  },
  {
   "cell_type": "code",
   "execution_count": null,
   "metadata": {
    "scrolled": true
   },
   "outputs": [],
   "source": [
    "#from sklearn import metrics\n",
    "\n",
    "#y_pred = gnb.fit(iris.data, iris.target).predict(iris.data)\n",
    "#metrics.confusion_matrix(y_test, y_pred)"
   ]
  },
  {
   "cell_type": "markdown",
   "metadata": {},
   "source": [
    "# CLUSTERIZACIÓN. K-NEAREST NEIGHBOURS"
   ]
  },
  {
   "cell_type": "code",
   "execution_count": 104,
   "metadata": {},
   "outputs": [],
   "source": [
    "#Vamos a utilizar un model de k-nearest neighbours \n",
    "from sklearn.neighbors import KNeighborsClassifier"
   ]
  },
  {
   "cell_type": "code",
   "execution_count": 143,
   "metadata": {},
   "outputs": [
    {
     "data": {
      "text/plain": [
       "KNeighborsClassifier(algorithm='auto', leaf_size=30, metric='minkowski',\n",
       "                     metric_params=None, n_jobs=None, n_neighbors=5, p=2,\n",
       "                     weights='uniform')"
      ]
     },
     "execution_count": 143,
     "metadata": {},
     "output_type": "execute_result"
    }
   ],
   "source": [
    "#Entrenamos el clasificador\n",
    "\n",
    "neighbor_model = KNeighborsClassifier(n_neighbors=5) #Hacemos cinco clusters \n",
    "neighbor_model.fit(X_train, y_train) #entrenando"
   ]
  },
  {
   "cell_type": "code",
   "execution_count": null,
   "metadata": {
    "scrolled": true
   },
   "outputs": [],
   "source": [
    "#delitos_x_list"
   ]
  },
  {
   "cell_type": "code",
   "execution_count": 146,
   "metadata": {},
   "outputs": [
    {
     "name": "stdout",
     "output_type": "stream",
     "text": [
      "['VIOLENCIA FAMILIAR']\n"
     ]
    }
   ],
   "source": [
    "#obs = np.array([[19.39723,-99.20937,2018.0,51.0,22,0,0,1,0,0,0,0,0,0,0,0,0,1,0,0,0,0,0,0,0,0,0,0,0,0,0,0,0,0,1,1]])\n",
    "#obs2 =np.array([[19.39723,-99.20937,2018.0,51.0,22,0,0,1,0,0,0,0,0,0,0,0,0,1,0,0,0,0,0,0,0,0,0,0,0,0,0,0,0,0,1,0,0,0,0,0,1]])\n",
    "\n",
    "obs3 = np.array([[19.39723,-99.20937,2018.0,51.0,22,0,0,1,0,0,0,0,0,0,0,0,0,1,0,0,0,0,0,0,0,0,0,0,0,0,0,0,0,0,1,0,0,0,0,0,1]])\n",
    "\n",
    "print(neighbor_model.predict(obs3))"
   ]
  },
  {
   "cell_type": "markdown",
   "metadata": {},
   "source": [
    "# Haciendo la función"
   ]
  },
  {
   "cell_type": "code",
   "execution_count": null,
   "metadata": {},
   "outputs": [],
   "source": [
    "#Ejemplo básico de cómo hacer un diccionario\n",
    "#dictionary = {alcaldia:[], edad: 0}\n",
    "#dictionary[alcaldia]"
   ]
  },
  {
   "cell_type": "code",
   "execution_count": null,
   "metadata": {},
   "outputs": [],
   "source": [
    "#Ejemplo de cómo hacer un for\n",
    "\n",
    "#lista = [\"miguel hidalgo\", \"benito juarez\", \"roma\"]\n",
    "#alcaldia_input = \"benito juarez\"\n",
    "\n",
    "#for i in lista:\n",
    "#    if i == alcaldia_input:\n",
    "#        dictionary[alcaldia].append(1)\n",
    "#    else:\n",
    "#        dictionary[alcaldia].append(0)\n",
    "        \n",
    "#dictionary[alcaldia]"
   ]
  },
  {
   "cell_type": "code",
   "execution_count": null,
   "metadata": {},
   "outputs": [],
   "source": [
    "#Ejemplo\n",
    "\n",
    "#input2 = \"ALVARO_OBREGON\"\n",
    "#obs=[]\n",
    "#for i in alcaldia_dic.keys():\n",
    "#    if input2 == i:\n",
    "        #print(alcaldia_dic[i])\n",
    "#        obs.append(alcaldia_dic[i][0])\n",
    "#        obs.append(alcaldia_dic[i][1])\n",
    "#obs.append(int(edad))\n",
    "\n",
    "#obs"
   ]
  },
  {
   "cell_type": "code",
   "execution_count": null,
   "metadata": {},
   "outputs": [],
   "source": [
    "#lista = []\n",
    "#for i in alcaldia_dic.values():\n",
    "#    lista.append(i)"
   ]
  },
  {
   "cell_type": "code",
   "execution_count": 88,
   "metadata": {},
   "outputs": [],
   "source": [
    "#Longitud, latitud\n",
    "ALVARO_OBREGON = [19.4204498,-99.1566863]\n",
    "AZCAPOTZALCO = [19.4858628,-99.2171046]\n",
    "BENITO_JUAREZ = [19.38053,-99.1790513]\n",
    "COYOACAN = [19.3282802,-99.1874339]\n",
    "CUAJIMALPA = [19.359444,-99.3043521]\n",
    "CUAUHTEMOC = [19.4328036,-99.1882921]\n",
    "GUSTAVO_MADERO = [19.5189221,-99.183998]\n",
    "IZTACALCO = [19.3990446,-99.1315041]\n",
    "IZTAPALAPA = [19.3429944,-99.1202121]\n",
    "MAGDALENA_CONTRERAS = [19.2756199,-99.3350277]\n",
    "MIGUEL_HIDALGO = [19.4297359,-99.2467061]\n",
    "MILPA_ALTA = [19.1939056,-99.0421193]\n",
    "TLAHUAC = [19.269001,-99.0746758]\n",
    "TLALPAN = [19.2010919,-99.348678]\n",
    "VENUSTIANO_CARRANZA = [19.432134,-99.1223489]\n",
    "XOCHIMILCO = [19.2366455,-99.1507608]"
   ]
  },
  {
   "cell_type": "code",
   "execution_count": 159,
   "metadata": {},
   "outputs": [],
   "source": [
    "#Definimos un diccionario\n",
    "alcaldia_dic= {\"ALVARO_OBREGON\": [19.4204498,-99.1566863], \"AZCAPOTZALCO\": [19.4858628,-99.2171046],\n",
    "               \"BENITO_JUAREZ\": [19.38053,-99.1790513],\n",
    "            \"COYOACAN\": [19.3282802,-99.1874339], \"CUAJIMALPA\": [19.3282802,-99.1874339],\n",
    "               \"CUAUHTEMOC\": [19.4328036,-99.1882921],\n",
    "            \"GUSTAVO_MADERO\": [19.5189221,-99.183998], \"IZTACALCO\": [19.3990446,-99.1315041],\n",
    "            \"IZTAPALAPA\": [19.3429944,-99.1202121], \"MAGDALENA_CONTRERAS\": [19.2756199,-99.3350277],\n",
    "            \"MIGUEL_HIDALGO\": [19.4297359,-99.2467061], \"MILPA_ALTA\": [19.1939056,-99.0421193],\n",
    "            \"TLAHUAC\": [19.269001,-99.0746758], \"TLALPAN\": [19.2010919,-99.348678],\n",
    "            \"VENUSTIANO_CARRANZA\": [19.432134,-99.1223489], \"XOCHIMILCO\": [19.2366455,-99.1507608]}"
   ]
  },
  {
   "cell_type": "code",
   "execution_count": 161,
   "metadata": {},
   "outputs": [],
   "source": [
    "#TENEMOS QUE HACER UNA LISTA PARA CADA VARIABLE QUE TIENE VARIOS VALORES\n",
    "#TENEMOS QUE HACER UN DICT LARGO\n",
    "#DEFINIMOS INPUT\n",
    "#lO PONEMOS EN LA FUNCIÓN\n",
    "\n",
    "dict_user = {\"alcaldia_CDMX\":[\"ALVARO_OBREGON\", \"AZCAPOTZALCO\", \"BENITO_JUAREZ\", \"COYOACAN\", \"CUAJIMALPA\", \"CUAUHTEMOC\",\n",
    "                       \"GUSTAVO_MADERO\", \"IZTACALCO\", \"IZTAPALAPA\", \"MAGDALENA_CONTRERAS\",\n",
    "                       \"MIGUEL_HIDALGO\", \"MILPA_ALTA\", \"TLAHUAC\", \"TLALPAN\", \"VENUSTIANO_CARRANZA\", \"XOCHIMILCO\"],\n",
    "             \"latitud\": [19.4204498, 19.4858628, 19.38053, 19.3282802, 19.359444, 19.4328036, 19.5189221, 19.3990446, \n",
    "                         19.3429944, 19.2756199, 19.4297359, 19.1939056, 19.269001, 19.2010919, 19.432134, 19.2366455],\n",
    "             \"longitud\": [-99.1566863, -99.2171046, -99.1790513,-99.1874339, -99.3043521, -99.1882921,-99.183998, \n",
    "                          -99.1315041,-99.1202121, -99.3350277, -99.2467061, -99.0421193, -99.0746758, -99.348678, \n",
    "                          -99.1223489,-99.1507608],\n",
    "            \"mes\":[\"ENERO\", \"FEBRERO\", \"MARZO\", \"ABRIL\", \"MAYO\", \"JUNIO\", \"JULIO\", \"AGOSTO\", \"SEPTIEMBRE\", \"OCTUBRE\",\n",
    "                 \"NOVIEMBRE\",\"DICIEMBRE\"],\n",
    "            \"dia_semana\":[\"MONDAY\", \"TUESDAY\", \"WEDNESDAY\", \"THURSDAY\", \"FRIDAY\", \"SATURDAY\", \"SUNDAY\"],\n",
    "            \"sexo\": [\"MASCULINO\", \"FEMENINO\"],\n",
    "            \"edad\":0,\n",
    "            \"ano\":0}\n",
    "\n",
    "LISTA_ALCALDIAS = [\"ALVARO_OBREGON\", \"AZCAPOTZALCO\", \"BENITO_JUAREZ\", \"COYOACAN\", \"CUAJIMALPA\", \"CUAUHTEMOC\",\n",
    "                       \"GUSTAVO_MADERO\", \"IZTACALCO\", \"IZTAPALAPA\", \"MAGDALENA_CONTRERAS\",\n",
    "                       \"MIGUEL_HIDALGO\", \"MILPA_ALTA\", \"TLAHUAC\", \"TLALPAN\", \"VENUSTIANO_CARRANZA\", \"XOCHIMILCO\"]\n",
    "LISTA_LATITUD = [19.4204498, 19.4858628, 19.38053, 19.3282802, 19.359444, 19.4328036, 19.5189221, 19.3990446, \n",
    "                         19.3429944, 19.2756199, 19.4297359, 19.1939056, 19.269001, 19.2010919, 19.432134, 19.2366455]\n",
    "LISTA_LONGITUD =  [-99.1566863, -99.2171046, -99.1790513,-99.1874339, -99.3043521, -99.1882921,-99.183998, \n",
    "                          -99.1315041,-99.1202121, -99.3350277, -99.2467061, -99.0421193, -99.0746758, -99.348678, \n",
    "                          -99.1223489,-99.1507608]\n",
    "LISTA_MES = [\"ENERO\", \"FEBRERO\", \"MARZO\", \"ABRIL\", \"MAYO\", \"JUNIO\", \"JULIO\", \"AGOSTO\", \"SEPTIEMBRE\", \"OCTUBRE\",\n",
    "                 \"NOVIEMBRE\",\"DICIEMBRE\"]\n",
    "LISTA_DIASEMANA = [\"MONDAY\", \"TUESDAY\", \"WEDNESDAY\", \"THURSDAY\", \"FRIDAY\", \"SATURDAY\", \"SUNDAY\"]\n",
    "LISTA_SEXO = [\"MASCULINO\", \"FEMENINO\"]\n"
   ]
  },
  {
   "cell_type": "code",
   "execution_count": 91,
   "metadata": {},
   "outputs": [
    {
     "data": {
      "text/plain": [
       "['ALVARO_OBREGON',\n",
       " 'AZCAPOTZALCO',\n",
       " 'BENITO_JUAREZ',\n",
       " 'COYOACAN',\n",
       " 'CUAJIMALPA',\n",
       " 'GUSTAVO_MADERO',\n",
       " 'IZTACALCO',\n",
       " 'IZTAPALAPA',\n",
       " 'MAGDALENA_CONTRERAS',\n",
       " 'MIGUEL_HIDALGO',\n",
       " 'MILPA_ALTA',\n",
       " 'TLAHUAC',\n",
       " 'TLALPAN',\n",
       " 'VENUSTIANO_CARRANZA',\n",
       " 'XOCHIMILCO']"
      ]
     },
     "execution_count": 91,
     "metadata": {},
     "output_type": "execute_result"
    }
   ],
   "source": [
    "dict_user[\"alcaldia_CDMX\"]"
   ]
  },
  {
   "cell_type": "markdown",
   "metadata": {},
   "source": [
    "Iniciamos el loop"
   ]
  },
  {
   "cell_type": "code",
   "execution_count": null,
   "metadata": {
    "scrolled": true
   },
   "outputs": [],
   "source": [
    "#Para buscar el index (i) y e (element)\n",
    "\n",
    "#for i,e in enumerate(LISTA_ALCALDIAS):\n",
    "#    print(i,e)\n",
    "#    print(i)"
   ]
  },
  {
   "cell_type": "code",
   "execution_count": 162,
   "metadata": {},
   "outputs": [
    {
     "name": "stdout",
     "output_type": "stream",
     "text": [
      "[19.4204498, -99.1566863, 2020, 27, 9, 0, 0, 0, 0, 0, 0, 0, 0, 1, 0, 0, 0, 1, 0, 0, 0, 0, 0, 0, 0, 0, 0, 0, 0, 0, 0, 0, 0, 1, 0, 0, 0, 0, 0, 0, 1]\n"
     ]
    }
   ],
   "source": [
    "#Definimos la variable user_input\n",
    "user_input = []\n",
    "\n",
    "#Definimos teoréticamente los inputs. Estas variables se irán cuando las reemplacemos con el input real\n",
    "alcaldia_input = \"ALVARO_OBREGON\"\n",
    "ano_input = 2020\n",
    "edad_input = 27\n",
    "sexo_input = 1\n",
    "mes_input = \"SEPTIEMBRE\"\n",
    "diasemana_input = \"MONDAY\"\n",
    "hora_input = 9\n",
    "\n",
    "#Iniciamos el loop\n",
    "\n",
    "#loop para meter latitud y longitud\n",
    "for i,e in enumerate(LISTA_ALCALDIAS):\n",
    "    if e== alcaldia_input:\n",
    "        user_input.append(dict_user[\"latitud\"][i])\n",
    "        #print(user_input)\n",
    "    if e== alcaldia_input:\n",
    "        user_input.append(dict_user[\"longitud\"][i])\n",
    "        #print(user_input)\n",
    "\n",
    "#Metemos variables que no necesitan for\n",
    "user_input.append(int(ano_input))\n",
    "user_input.append(int(edad_input))\n",
    "user_input.append(int(hora_input))\n",
    "\n",
    "#Hacemos un loop para decidir el mes\n",
    "for e in LISTA_MES:\n",
    "    if e == mes_input:\n",
    "        user_input.append(1)\n",
    "    else:\n",
    "        user_input.append(0)\n",
    "\n",
    "\n",
    "#Hacemos un loop para decidir la alcaldia\n",
    "for e in LISTA_ALCALDIAS:\n",
    "    if e== alcaldia_input:\n",
    "        user_input.append(1)\n",
    "    else:\n",
    "        user_input.append(0)\n",
    "        #print(lista_prueba)\n",
    "        \n",
    "#Hacemos un loop para dia de la semana\n",
    "for e in LISTA_DIASEMANA:\n",
    "    if e== diasemana_input:\n",
    "        user_input.append(1)\n",
    "    else:\n",
    "        user_input.append(0)\n",
    "        \n",
    "#Metemos la última variable que no necesita for\n",
    "user_input.append(int(sexo_input))\n",
    "\n",
    "\n",
    "print(user_input)\n"
   ]
  },
  {
   "cell_type": "code",
   "execution_count": 164,
   "metadata": {},
   "outputs": [
    {
     "name": "stdout",
     "output_type": "stream",
     "text": [
      "41\n",
      "41\n"
     ]
    }
   ],
   "source": [
    "#deito_x prueba\n",
    "a =np.array([[19.39723,-99.20937,2018.0,51.0,22,0,0,1,0,0,0,0,0,0,0,0,0,1,0,0,0,0,0,0,0,0,0,0,0,0,0,0,0,0,1,0,0,0,0,0,1]])\n",
    "\n",
    "#Funcion resultado\n",
    "b = np.array([[19.4204498, -99.1566863, 2020, 27, 9, 0, 0, 0, 0, 0, 0, 0, 0, 1, 0, 0, 0, 1, 0, 0, 0, 0, 0, 0, 0, 0, 0, 0, 0, 0, 0, 0, 0, 1, 0, 0, 0, 0, 0, 0, 1]])\n",
    "\n",
    "alist =a.tolist()\n",
    "blist = b.tolist()\n",
    "\n",
    "print(len(alist[0]))\n",
    "print(len(blist[0]))"
   ]
  },
  {
   "cell_type": "code",
   "execution_count": 198,
   "metadata": {},
   "outputs": [],
   "source": [
    "def usuario_input(alcaldia_input, ano_input, edad_input, hora_input, mes_input, diasemana_input, sexo_input):\n",
    "\n",
    "#Iniciamos el loop\n",
    "    user_input = []\n",
    "#loop para meter latitud y longitud\n",
    "    for i,e in enumerate(LISTA_ALCALDIAS):\n",
    "        if e== alcaldia_input:\n",
    "            user_input.append(dict_user[\"latitud\"][i])\n",
    "            #print(user_input)\n",
    "        if e== alcaldia_input:\n",
    "            user_input.append(dict_user[\"longitud\"][i])\n",
    "            #print(user_input)\n",
    "\n",
    "#Metemos variables que no necesitan for\n",
    "    user_input.append(int(ano_input))\n",
    "    user_input.append(int(edad_input))\n",
    "    user_input.append(int(hora_input))\n",
    "\n",
    "#Hacemos un loop para decidir el mes\n",
    "    for e in LISTA_MES:\n",
    "        if e == mes_input:\n",
    "            user_input.append(1)\n",
    "        else:\n",
    "            user_input.append(0)\n",
    "\n",
    "\n",
    "#Hacemos un loop para decidir la alcaldia\n",
    "    for e in LISTA_ALCALDIAS:\n",
    "        if e== alcaldia_input:\n",
    "            user_input.append(1)\n",
    "        else:\n",
    "            user_input.append(0)\n",
    "            #print(lista_prueba)\n",
    "        \n",
    "#Hacemos un loop para dia de la semana\n",
    "    for e in LISTA_DIASEMANA:\n",
    "        if e== diasemana_input:\n",
    "            user_input.append(1)\n",
    "        else:\n",
    "            user_input.append(0)\n",
    "            \n",
    "#Metemos la última variable que no necesitan for    \n",
    "    user_input.append(int(sexo_input))\n",
    "    #print(user_input)\n",
    "    \n",
    "    return np.array([user_input])"
   ]
  },
  {
   "cell_type": "markdown",
   "metadata": {},
   "source": [
    "Inputs"
   ]
  },
  {
   "cell_type": "code",
   "execution_count": 96,
   "metadata": {},
   "outputs": [
    {
     "name": "stdout",
     "output_type": "stream",
     "text": [
      "¿A qué alcaldia vas? Escribe el nombre de la alcaldia tal como aparece en la lista siguiente: \n",
      " ['ALVARO_OBREGON', 'AZCAPOTZALCO', 'BENITO_JUAREZ', 'COYOACAN', 'CUAJIMALPA', 'GUSTAVO_MADERO', 'IZTACALCO', 'IZTAPALAPA', 'MAGDALENA_CONTRERAS', 'MIGUEL_HIDALGO', 'MILPA_ALTA', 'TLAHUAC', 'TLALPAN', 'VENUSTIANO_CARRANZA', 'XOCHIMILCO'] \n",
      " \n",
      "MIGUEL_HIDALGO\n"
     ]
    }
   ],
   "source": [
    "#Empezamos a definir inputs\n",
    "\n",
    "#alcaldia_input\n",
    "alcaldia_input = input(f'¿A qué alcaldia vas? Escribe el nombre de la alcaldia tal como aparece en la lista siguiente: \\n {LISTA_ALCALDIAS} \\n \\n')"
   ]
  },
  {
   "cell_type": "code",
   "execution_count": 97,
   "metadata": {},
   "outputs": [
    {
     "name": "stdout",
     "output_type": "stream",
     "text": [
      "¿En qué año piensas ir?: \n",
      " \n",
      "2020\n"
     ]
    }
   ],
   "source": [
    "#ano_input\n",
    "ano_input = input(\"¿En qué año piensas ir?: \\n \\n\")"
   ]
  },
  {
   "cell_type": "code",
   "execution_count": 98,
   "metadata": {},
   "outputs": [
    {
     "name": "stdout",
     "output_type": "stream",
     "text": [
      "¿Cuál es tu edad?  \n",
      " \n",
      "26\n"
     ]
    }
   ],
   "source": [
    "#Edad\n",
    "edad_input = input(\"¿Cuál es tu edad?  \\n \\n\")"
   ]
  },
  {
   "cell_type": "code",
   "execution_count": 173,
   "metadata": {},
   "outputs": [
    {
     "name": "stdout",
     "output_type": "stream",
     "text": [
      "¿Te identificas como hombre? Escribe 1 si así es, 0 si no es así \n",
      " \n",
      "  1\n"
     ]
    }
   ],
   "source": [
    "#sexo\n",
    "sexo_input = input(\"¿Te identificas como hombre? Escribe 1 si así es, 0 si no es así \\n \\n  \")"
   ]
  },
  {
   "cell_type": "code",
   "execution_count": 100,
   "metadata": {},
   "outputs": [
    {
     "name": "stdout",
     "output_type": "stream",
     "text": [
      "¿En qué mes planeas ir? Por favor, escribe el mes exactamente como aparece en la lista: \n",
      " ['ENERO', 'FEBRERO', 'MARZO', 'ABRIL', 'MAYO', 'JUNIO', 'JULIO', 'AGOSTO', 'SEPTIEMBRE', 'OCTUBRE', 'NOVIEMBRE', 'DICIEMBRE'] \n",
      " \n",
      "MARZO\n"
     ]
    }
   ],
   "source": [
    "#Mes\n",
    "mes = input(f'¿En qué mes planeas ir? Por favor, escribe el mes exactamente como aparece en la lista: \\n {LISTA_MES} \\n \\n')"
   ]
  },
  {
   "cell_type": "code",
   "execution_count": 10,
   "metadata": {},
   "outputs": [
    {
     "name": "stdout",
     "output_type": "stream",
     "text": [
      "¿En qué día vas a ir? Por favor, escribe el día como se pone a cotinuación (en inglés porque vamos a practicar la primaria): \n",
      " ['MONDAY', 'TUESDAY', 'WEDNESDAY', 'THURSDAY', 'FRIDAY', 'SATURDAY', 'SUNDAY'] \n",
      " \n",
      "MONDAY\n"
     ]
    }
   ],
   "source": [
    "#Dia\n",
    "dia = input(f'¿En qué día vas a ir? Por favor, escribe el día como se pone a cotinuación (en inglés porque vamos a practicar la primaria): \\n {LISTA_DIASEMANA} \\n \\n')"
   ]
  },
  {
   "cell_type": "markdown",
   "metadata": {},
   "source": [
    "Llamamos a la función ya con los inputs cargados"
   ]
  },
  {
   "cell_type": "code",
   "execution_count": 199,
   "metadata": {},
   "outputs": [
    {
     "data": {
      "text/plain": [
       "array([[ 1.94204498e+01, -9.91566863e+01,  2.02000000e+03,\n",
       "         2.70000000e+01,  9.00000000e+00,  0.00000000e+00,\n",
       "         0.00000000e+00,  0.00000000e+00,  0.00000000e+00,\n",
       "         0.00000000e+00,  0.00000000e+00,  0.00000000e+00,\n",
       "         0.00000000e+00,  1.00000000e+00,  0.00000000e+00,\n",
       "         0.00000000e+00,  0.00000000e+00,  1.00000000e+00,\n",
       "         0.00000000e+00,  0.00000000e+00,  0.00000000e+00,\n",
       "         0.00000000e+00,  0.00000000e+00,  0.00000000e+00,\n",
       "         0.00000000e+00,  0.00000000e+00,  0.00000000e+00,\n",
       "         0.00000000e+00,  0.00000000e+00,  0.00000000e+00,\n",
       "         0.00000000e+00,  0.00000000e+00,  0.00000000e+00,\n",
       "         1.00000000e+00,  0.00000000e+00,  0.00000000e+00,\n",
       "         0.00000000e+00,  0.00000000e+00,  0.00000000e+00,\n",
       "         0.00000000e+00,  1.00000000e+00]])"
      ]
     },
     "execution_count": 199,
     "metadata": {},
     "output_type": "execute_result"
    }
   ],
   "source": [
    "resultado =usuario_input(alcaldia_input, ano_input, edad_input, hora_input, mes_input, diasemana_input, sexo_input)\n",
    "#neighbor_model.predict(resultado)\n",
    "resultado"
   ]
  },
  {
   "cell_type": "markdown",
   "metadata": {},
   "source": [
    "#Resultado Final"
   ]
  },
  {
   "cell_type": "code",
   "execution_count": 200,
   "metadata": {},
   "outputs": [
    {
     "data": {
      "text/plain": [
       "array(['DELITO DE BAJO IMPACTO'], dtype=object)"
      ]
     },
     "execution_count": 200,
     "metadata": {},
     "output_type": "execute_result"
    }
   ],
   "source": [
    "neighbor_model.predict(resultado)"
   ]
  },
  {
   "cell_type": "markdown",
   "metadata": {},
   "source": [
    "# Hacer el mapa"
   ]
  },
  {
   "cell_type": "code",
   "execution_count": null,
   "metadata": {},
   "outputs": [],
   "source": [
    "#Mapa de México\n",
    "mapa_mx=folium.Map(location=[23.1647882, -98.5497951], tiles='openstreetmap', zoom_start=4.92)\n",
    "\n",
    "#Mapa de CDMX\n",
    "#19.395923,-99.1530584,10.78\n",
    "mapa=folium.Map(location=[19.395923, -99.1530584], tiles=\"stamentoner\", zoom_start=10.78)\n",
    "#folium.TileLayer('stamentoner').add_to(mapa)"
   ]
  },
  {
   "cell_type": "code",
   "execution_count": null,
   "metadata": {},
   "outputs": [],
   "source": [
    "#Listas de eventos delicitivos\n",
    "# \n",
    "lat=list(delitos.latitud)\n",
    "lng=list(delitos.longitud)\n",
    "names=list(delitos['delito']) #para mostrar en el popup\n",
    "#acres=list(parks.Acres)"
   ]
  },
  {
   "cell_type": "code",
   "execution_count": null,
   "metadata": {},
   "outputs": [],
   "source": [
    "#Este ciclo crea los marcadores con forma de gotita en cada coordenada geográfica\n",
    "for i in range(len(lat)):\n",
    "    folium.Marker([float(lat[i]), float(lng[i])],icon=folium.Icon(color='green'),popup=names[i] ,fill_color=\"#3db7e4\").add_to(mapa)"
   ]
  },
  {
   "cell_type": "code",
   "execution_count": null,
   "metadata": {},
   "outputs": [],
   "source": [
    "#mapa.save('mex.html')"
   ]
  },
  {
   "cell_type": "code",
   "execution_count": null,
   "metadata": {},
   "outputs": [],
   "source": [
    "#display(mapa)"
   ]
  },
  {
   "cell_type": "markdown",
   "metadata": {},
   "source": [
    "Mapa más pequeño"
   ]
  },
  {
   "cell_type": "code",
   "execution_count": null,
   "metadata": {},
   "outputs": [],
   "source": [
    "#Hacer mapa más pequeño \n",
    "mapa_2017 = folium.Map(location=[19.395923, -99.1530584], tiles=\"stamentoner\", zoom_start=10.78)"
   ]
  },
  {
   "cell_type": "code",
   "execution_count": null,
   "metadata": {},
   "outputs": [],
   "source": [
    "lat = delitos.loc[delitos[\"ano_hecho\"]== 2017, [\"latitud\"]]\n",
    "lat = lat['latitud'].tolist()"
   ]
  },
  {
   "cell_type": "code",
   "execution_count": null,
   "metadata": {},
   "outputs": [],
   "source": [
    "lng= delitos.loc[delitos[\"ano_hecho\"]== 2017, [\"longitud\"]]\n",
    "lng = lng[\"longitud\"].tolist()"
   ]
  },
  {
   "cell_type": "code",
   "execution_count": null,
   "metadata": {},
   "outputs": [],
   "source": [
    "names=list(delitos['delito'])"
   ]
  },
  {
   "cell_type": "code",
   "execution_count": null,
   "metadata": {},
   "outputs": [],
   "source": [
    "for i in range(len(lat)):\n",
    "    folium.Marker([float(lat[i]), float(lng[i])],icon=folium.Icon(color='red'),popup=names[i] ,fill_color=\"#3db7e4\").add_to(mapa_2017)"
   ]
  },
  {
   "cell_type": "code",
   "execution_count": null,
   "metadata": {},
   "outputs": [],
   "source": [
    "#mapa_2017.save('mex.html')"
   ]
  },
  {
   "cell_type": "code",
   "execution_count": null,
   "metadata": {},
   "outputs": [],
   "source": [
    "#display(mapa_2017)"
   ]
  },
  {
   "cell_type": "code",
   "execution_count": null,
   "metadata": {},
   "outputs": [],
   "source": [
    "#Mapa de un delito\n",
    "mapa_acoso = folium.Map(location=[19.395923, -99.1530584], tiles=\"stamentoner\", zoom_start=10.78)"
   ]
  },
  {
   "cell_type": "code",
   "execution_count": null,
   "metadata": {},
   "outputs": [],
   "source": [
    "lat = delitos.loc[delitos[\"delito\"]== \"ACOSO SEXUAL\", [\"latitud\"]]\n",
    "lat = lat['latitud'].tolist()"
   ]
  },
  {
   "cell_type": "code",
   "execution_count": null,
   "metadata": {},
   "outputs": [],
   "source": [
    "lng= delitos.loc[delitos[\"delito\"]== \"ACOSO SEXUAL\", [\"longitud\"]]\n",
    "lng = lng[\"longitud\"].tolist()"
   ]
  },
  {
   "cell_type": "code",
   "execution_count": null,
   "metadata": {},
   "outputs": [],
   "source": [
    "names=list(delitos['delito'])"
   ]
  },
  {
   "cell_type": "code",
   "execution_count": null,
   "metadata": {},
   "outputs": [],
   "source": [
    "for i in range(len(lat)):\n",
    "    folium.Marker([float(lat[i]), float(lng[i])],icon=folium.Icon(color='red'),popup=names[i] ,fill_color=\"#3db7e4\").add_to(mapa_acoso)"
   ]
  },
  {
   "cell_type": "code",
   "execution_count": null,
   "metadata": {},
   "outputs": [],
   "source": [
    "mapa_acoso.save('mex.html')"
   ]
  },
  {
   "cell_type": "code",
   "execution_count": null,
   "metadata": {},
   "outputs": [],
   "source": [
    "#display(mapa_acoso)"
   ]
  },
  {
   "cell_type": "markdown",
   "metadata": {},
   "source": [
    "# Mapa de calor"
   ]
  },
  {
   "cell_type": "code",
   "execution_count": null,
   "metadata": {},
   "outputs": [],
   "source": [
    "mapa_calor = folium.Map(location=[19.395923, -99.1530584], tiles=\"openstreetmap\", zoom_start=10.78)"
   ]
  },
  {
   "cell_type": "code",
   "execution_count": null,
   "metadata": {},
   "outputs": [],
   "source": [
    "# convert to (n, 2) nd-array format for heatmap\n",
    "stationArr = delitos[['latitud', 'longitud']].as_matrix()"
   ]
  },
  {
   "cell_type": "code",
   "execution_count": null,
   "metadata": {},
   "outputs": [],
   "source": [
    "# plot heatmap\n",
    "mapa_calor.add_children(plugins.HeatMap(stationArr, radius=15))"
   ]
  },
  {
   "cell_type": "code",
   "execution_count": null,
   "metadata": {},
   "outputs": [],
   "source": [
    "#Hacemos mapa de un tipo de delito\n",
    "\n",
    "#Partimos el dataframe\n",
    "robo_objetos = delitos[delitos.delito ==\"ROBO DE OBJETOS Y DOCUMENTOS\"]\n",
    "\n",
    "#Creamos el mapa con coordenadas\n",
    "mapa_calor_roboobjetos = folium.Map(location=[19.395923, -99.1530584], tiles=\"openstreetmap\", zoom_start=10.78)\n",
    "\n",
    "#Creamos matriz del robo específico\n",
    "delitos_robo = robo_objetos[['latitud', 'longitud']].as_matrix()\n",
    "\n",
    "#Agregamos la capa\n",
    "mapa_calor_roboobjetos.add_children(plugins.HeatMap(delitos_robo, radius=15))\n",
    "\n",
    "#Guardamos\n",
    "mapa_calor_roboobjetos.save('mapacalor_robo_objetos.html')\n",
    "mapa_calor_roboobjetos"
   ]
  },
  {
   "cell_type": "code",
   "execution_count": null,
   "metadata": {},
   "outputs": [],
   "source": [
    "#Hacemos mapa de un tipo de delito\n",
    "\n",
    "#Partimos el dataframe\n",
    "robo_pasajero = delitos[delitos.delito ==\"ROBO A PASAJERO\"]\n",
    "\n",
    "#Creamos el mapa con coordenadas\n",
    "mapa_calor_robopasajero = folium.Map(location=[19.395923, -99.1530584], tiles=\"openstreetmap\", zoom_start=10.78)\n",
    "\n",
    "#Creamos matriz del robo específico\n",
    "delitos_robopasajero = robo_pasajero[['latitud', 'longitud']].as_matrix()\n",
    "\n",
    "#Agregamos la capa\n",
    "mapa_calor_robopasajero.add_children(plugins.HeatMap(delitos_robopasajero, radius=15))\n",
    "\n",
    "#Guardamos\n",
    "mapa_calor_robopasajero.save('mapacalor_robopasajero.html')\n",
    "mapa_calor_robopasajero"
   ]
  },
  {
   "cell_type": "code",
   "execution_count": null,
   "metadata": {},
   "outputs": [],
   "source": [
    "#Hacemos mapa de un tipo de delito\n",
    "\n",
    "#Partimos el dataframe\n",
    "violencia_familiar = delitos[delitos.delito ==\"VIOLENCIA FAMILIAR\"]\n",
    "\n",
    "#Creamos el mapa con coordenadas\n",
    "mapa_calor_violenciafam = folium.Map(location=[19.395923, -99.1530584], tiles=\"openstreetmap\", zoom_start=10.78)\n",
    "\n",
    "#Creamos matriz del robo específico\n",
    "delitos_violenciafam = violencia_familiar[['latitud', 'longitud']].as_matrix()\n",
    "\n",
    "#Agregamos la capa\n",
    "mapa_calor_violenciafam.add_children(plugins.HeatMap(delitos_violenciafam, radius=15))\n",
    "\n",
    "#Guardamos\n",
    "mapa_calor_violenciafam.save('mapacalor_violenciafam.html')\n",
    "mapa_calor_violenciafam"
   ]
  },
  {
   "cell_type": "code",
   "execution_count": null,
   "metadata": {},
   "outputs": [],
   "source": [
    "#Hacemos mapa de un tipo de delito\n",
    "\n",
    "#Partimos el dataframe\n",
    "delitos_acoso = delitos[delitos.delito ==\"ACOSO SEXUAL\"]\n",
    "\n",
    "#Creamos el mapa con coordenadas\n",
    "mapa_calor_acoso = folium.Map(location=[19.395923, -99.1530584], tiles=\"openstreetmap\", zoom_start=10.78)\n",
    "\n",
    "#Creamos matriz del robo específico\n",
    "delitos_delitoacoso = delitos_acoso[['latitud', 'longitud']].as_matrix()\n",
    "\n",
    "#Agregamos la capa\n",
    "mapa_calor_acoso.add_children(plugins.HeatMap(delitos_delitoacoso, radius=15))\n",
    "\n",
    "#Guardamos\n",
    "mapa_calor_acoso.save('mapacalor_acoso.html')\n",
    "mapa_calor_acoso"
   ]
  },
  {
   "cell_type": "code",
   "execution_count": null,
   "metadata": {},
   "outputs": [],
   "source": [
    "#Hacemos mapa de un tipo de delito\n",
    "\n",
    "#Partimos el dataframe\n",
    "delitosmujeres = delitos[delitos.sexo ==\"Femenino\"]\n",
    "\n",
    "#Creamos el mapa con coordenadas\n",
    "mapa_calor_delitosmujeres = folium.Map(location=[19.395923, -99.1530584], tiles=\"openstreetmap\", zoom_start=10.78)\n",
    "\n",
    "#Creamos matriz del robo específico\n",
    "delitos_delitomujeres = delitosmujeres[['latitud', 'longitud']].as_matrix()\n",
    "\n",
    "#Agregamos la capa\n",
    "mapa_calor_delitosmujeres.add_children(plugins.HeatMap(delitos_delitomujeres, radius=15))\n",
    "\n",
    "#Guardamos\n",
    "mapa_calor_delitosmujeres.save('mapacalor_delitosmujeres.html')\n",
    "mapa_calor_delitosmujeres"
   ]
  },
  {
   "cell_type": "code",
   "execution_count": null,
   "metadata": {},
   "outputs": [],
   "source": [
    "delitos.delito.value_counts()"
   ]
  },
  {
   "cell_type": "code",
   "execution_count": null,
   "metadata": {},
   "outputs": [],
   "source": [
    "delitos.sexo.value_counts()"
   ]
  },
  {
   "cell_type": "markdown",
   "metadata": {},
   "source": [
    "# Obtener el input"
   ]
  },
  {
   "cell_type": "code",
   "execution_count": null,
   "metadata": {},
   "outputs": [],
   "source": [
    "print(input(\"Cuál es tu edad?\"))"
   ]
  },
  {
   "cell_type": "code",
   "execution_count": null,
   "metadata": {},
   "outputs": [],
   "source": [
    "item_number = []\n",
    "item_name = []\n",
    "item_price = []"
   ]
  },
  {
   "cell_type": "code",
   "execution_count": null,
   "metadata": {},
   "outputs": [],
   "source": [
    "\n",
    "def user_input():\n",
    "    item_number = input(\"Item number: \")\n",
    "    item_name = input(\"Item name: \")\n",
    "    item_price = input(\"Item price: \")\n",
    "    return item_number, item_name, item_price"
   ]
  },
  {
   "cell_type": "code",
   "execution_count": null,
   "metadata": {},
   "outputs": [],
   "source": [
    "user_input()"
   ]
  },
  {
   "cell_type": "code",
   "execution_count": null,
   "metadata": {},
   "outputs": [],
   "source": []
  },
  {
   "cell_type": "code",
   "execution_count": null,
   "metadata": {},
   "outputs": [],
   "source": [
    "int(\"¿Bienvenido a CDMX. Cuál es tu edad?: \")\n",
    "\n",
    "#print(user_input(f\"¿Bienvenido a CDMX. Cuál es tu edad?\", edad_ = 20)"
   ]
  },
  {
   "cell_type": "code",
   "execution_count": null,
   "metadata": {},
   "outputs": [],
   "source": [
    "g = raw_input(\"Enter your name : \") \n",
    "print g "
   ]
  },
  {
   "cell_type": "code",
   "execution_count": null,
   "metadata": {},
   "outputs": [],
   "source": [
    "def input_user():\n",
    "    x = int(raw_input(\"Bienvenido a CDMX. Cuál es tu edad?\"))\n",
    "    return x\n",
    "\n",
    "raw_input()"
   ]
  },
  {
   "cell_type": "code",
   "execution_count": null,
   "metadata": {},
   "outputs": [],
   "source": [
    "def input_function():\n",
    "    x = int(raw_input(\"Enter first number\"))\n",
    "    y = int(raw_input(\"Enter second number\"))\n",
    "    return x,y\n",
    "\n",
    "\n",
    "def multiplication():\n",
    "    x,y = input_function()\n",
    "    m = x * y\n",
    "    print \"Multiplication result\", m\n",
    "\n",
    "multiplication()"
   ]
  },
  {
   "cell_type": "code",
   "execution_count": null,
   "metadata": {},
   "outputs": [],
   "source": [
    "def bitcoin_to_usd(btc):\n",
    "    amount = btc * 527\n",
    "    print(amount)\n",
    "\n",
    "btc = input(\"Input your Bitcoins amount: \")\n",
    "\n",
    "#bitcoin_to_usd(btc)"
   ]
  },
  {
   "cell_type": "code",
   "execution_count": null,
   "metadata": {},
   "outputs": [],
   "source": [
    "def input_function():\n",
    "    x = int(raw_input(\"Enter first number\"))\n",
    "    y = int(raw_input(\"Enter second number\"))\n",
    "    return x,y\n",
    "\n",
    "\n",
    "def multiplication():\n",
    "    x,y = input_function()\n",
    "    m = x * y\n",
    "    print \"Multiplication result\", m\n",
    "\n",
    "multiplication()"
   ]
  },
  {
   "cell_type": "code",
   "execution_count": null,
   "metadata": {},
   "outputs": [],
   "source": []
  },
  {
   "cell_type": "code",
   "execution_count": null,
   "metadata": {},
   "outputs": [],
   "source": []
  },
  {
   "cell_type": "code",
   "execution_count": null,
   "metadata": {},
   "outputs": [],
   "source": []
  },
  {
   "cell_type": "code",
   "execution_count": null,
   "metadata": {},
   "outputs": [],
   "source": []
  },
  {
   "cell_type": "code",
   "execution_count": null,
   "metadata": {},
   "outputs": [],
   "source": []
  },
  {
   "cell_type": "code",
   "execution_count": null,
   "metadata": {},
   "outputs": [],
   "source": []
  },
  {
   "cell_type": "code",
   "execution_count": null,
   "metadata": {},
   "outputs": [],
   "source": []
  },
  {
   "cell_type": "code",
   "execution_count": null,
   "metadata": {},
   "outputs": [],
   "source": []
  },
  {
   "cell_type": "markdown",
   "metadata": {},
   "source": [
    "# Obtenemos probabilidades de cada valor"
   ]
  },
  {
   "cell_type": "code",
   "execution_count": null,
   "metadata": {},
   "outputs": [],
   "source": [
    "#Definamos una función específica como prueba\n",
    "def probabilidad_simple(x):\n",
    "    x2 = x[x ==\"Femenino\"].count()\n",
    "    return x2/174725\n",
    "\n",
    "print(probabilidad_simple(delitos.sexo))"
   ]
  },
  {
   "cell_type": "code",
   "execution_count": null,
   "metadata": {},
   "outputs": [],
   "source": [
    "#Definimos una función general que usaremos\n",
    "def probabilidad_simple2(x, param):\n",
    "    x2 = x[x == param].count()\n",
    "    return x2/174725\n",
    "\n",
    "#Hacemos pruebas\n",
    "\n",
    "#lista_prob = []\n",
    "\n",
    "#lista_prob.append(probabilidad_simple2(delitos.sexo, \"Femenino\"))\n",
    "#lista_prob.append(probabilidad_simple2(delitos.sexo, \"Masculino\"))\n",
    "#lista_prob.append(probabilidad_simple2(delitos.alcaldiahechos, \"ALVARO OBREGON\"))"
   ]
  },
  {
   "cell_type": "code",
   "execution_count": null,
   "metadata": {
    "scrolled": true
   },
   "outputs": [],
   "source": [
    "#ALCALDIAS\n",
    "\n",
    "#Definimos los valores unicos que va a iterar\n",
    "alcaldias = delitos.alcaldiahechos.unique()\n",
    "\n",
    "#Hacemos un loop\n",
    "\n",
    "prob_alcaldia = []\n",
    "nombre_alcaldia = []\n",
    "\n",
    "for i in alcaldias:\n",
    "\n",
    "    #prob_alcaldia.append(i + \",\" + \" \" + str(probabilidad_simple2(delitos.alcaldiahechos, i)))\n",
    "    prob_alcaldia.append(str(probabilidad_simple2(delitos.alcaldiahechos, i)))\n",
    "    nombre_alcaldia.append(i)\n",
    "    dict = {'Parametro':nombre_alcaldia,'Prob':prob_alcaldia}\n",
    "    \n",
    "    \n",
    "prob_alcaldia = pd.DataFrame(dict, columns = [\"Parametro\", \"Prob\"]).sort_values(by=\"Prob\", ascending=False)\n",
    "prob_alcaldia\n",
    "\n",
    "\n",
    "\n",
    "#ESTE CÓDIGO ES DE PRUEBA. NO APORTA NADA\n",
    "#prob_alcaldia = pd.DataFrame(prob_alcaldia, columns=[\"Parametro\"])\n",
    "#prob_alcaldia.Parametro.str.split(\"(?<=\\\\D)(?=\\\\d)|(?<=\\\\d)(?=\\\\D)\").inplace=True\n",
    "#prob_alcaldia[\"sep\"] = Regex.Match(prob_alcaldia.Parametro, @\"^[^0-9]*\").Value.Trim();\n",
    "#prob_alcaldia.re.split(r'(\\d+)')\n",
    "#temp = re.compile(\"([a-zA-Z]+)([0-9]+)\")\n",
    "#prob_alcaldia[\"sep\"] = temp.match(prob_alcaldia.Parametro).Trim()\n",
    "#prob_alcaldia2 = prob_alcaldia[\"Parametro\"].str.split(r\"(\\w+?)(\\d+)\", n=1, expand=True)\n",
    "#prob_alcaldia[\"Delegacion\"] = prob_alcaldia2[0]\n",
    "#prob_alcaldia[\"Delegacion\"] = prob_alcaldia2[1]\n",
    "#prob_alcaldia2\n",
    "#prob_alcaldia[\"prueba\"] = prob_alcaldia_3[\"Parametro\"].str.split(\",\", expand=True)\n",
    "#prob_alcaldia"
   ]
  },
  {
   "cell_type": "code",
   "execution_count": null,
   "metadata": {
    "scrolled": true
   },
   "outputs": [],
   "source": [
    "#Edad\n",
    "\n",
    "#Definimos los valores unicos que va a iterar\n",
    "edad_coded = delitos.edad_coded.unique()\n",
    "\n",
    "#Hacemos un loop\n",
    "prob_edad = []\n",
    "nombre_grupoedad = []\n",
    "\n",
    "for i in edad_coded:\n",
    "\n",
    "    #prob_alcaldia.append(i + \",\" + \" \" + str(probabilidad_simple2(delitos.alcaldiahechos, i)))\n",
    "    prob_edad.append(str(probabilidad_simple2(delitos.edad_coded, i)))\n",
    "    nombre_grupoedad.append(i)\n",
    "    dict = {'Parametro':nombre_grupoedad,'Prob':prob_edad}\n",
    "    \n",
    "    \n",
    "prob_edad = pd.DataFrame(dict, columns = [\"Parametro\", \"Prob\"]).sort_values(by=\"Prob\", ascending=False)\n",
    "prob_edad"
   ]
  },
  {
   "cell_type": "code",
   "execution_count": null,
   "metadata": {},
   "outputs": [],
   "source": [
    "#DELITO\n",
    "\n",
    "#Definimos los valores unicos que va a iterar\n",
    "delito_coded = delitos.delito_coded.unique()\n",
    "\n",
    "#Hacemos un loop\n",
    "prob_delito = []\n",
    "nombre_delito = []\n",
    "\n",
    "for i in delito_coded:\n",
    "\n",
    "    #prob_alcaldia.append(i + \",\" + \" \" + str(probabilidad_simple2(delitos.alcaldiahechos, i)))\n",
    "    prob_delito.append(str(probabilidad_simple2(delitos.delito_coded, i)))\n",
    "    nombre_delito.append(i)\n",
    "    dict = {'Parametro':nombre_delito,'Prob':prob_delito}\n",
    "    \n",
    "    \n",
    "prob_delito = pd.DataFrame(dict, columns = [\"Parametro\", \"Prob\"]).sort_values(by=\"Prob\", ascending=False)\n",
    "prob_delito\n",
    "\n",
    "#Bris. Está altisima mi probabilidad de otro delito."
   ]
  },
  {
   "cell_type": "code",
   "execution_count": null,
   "metadata": {},
   "outputs": [],
   "source": [
    "#MES\n",
    "\n",
    "#Definimos los valores unicos que va a iterar\n",
    "mes = delitos.mes_hecho.unique()\n",
    "\n",
    "#Hacemos un loop\n",
    "prob_mes = []\n",
    "nombre_mes = []\n",
    "\n",
    "for i in mes:\n",
    "\n",
    "    #prob_alcaldia.append(i + \",\" + \" \" + str(probabilidad_simple2(delitos.alcaldiahechos, i)))\n",
    "    prob_mes.append(str(probabilidad_simple2(delitos.mes_hecho, i)))\n",
    "    nombre_mes.append(i)\n",
    "    dict = {'Parametro':nombre_mes,'Prob':prob_mes}\n",
    "    \n",
    "    \n",
    "prob_mes = pd.DataFrame(dict, columns = [\"Parametro\", \"Prob\"]).sort_values(by=\"Prob\", ascending=False)\n",
    "prob_mes\n",
    "\n",
    "#Bris. Está altisima mi probabilidad de otro delito."
   ]
  },
  {
   "cell_type": "code",
   "execution_count": null,
   "metadata": {},
   "outputs": [],
   "source": [
    "#HORA\n",
    "\n",
    "#Definimos los valores unicos que va a iterar\n",
    "hora = delitos.hora.unique()\n",
    "\n",
    "#Hacemos un loop\n",
    "prob_hora = []\n",
    "nombre_hora = []\n",
    "\n",
    "for i in hora:\n",
    "\n",
    "    #prob_alcaldia.append(i + \",\" + \" \" + str(probabilidad_simple2(delitos.alcaldiahechos, i)))\n",
    "    prob_hora.append(str(probabilidad_simple2(delitos.hora, i)))\n",
    "    nombre_hora.append(i)\n",
    "    dict = {'Parametro':nombre_hora,'Prob':prob_hora}\n",
    "    \n",
    "    \n",
    "prob_hora = pd.DataFrame(dict, columns = [\"Parametro\", \"Prob\"]).sort_values(by=\"Prob\", ascending=False)\n",
    "prob_hora\n",
    "\n",
    "#Bris. Está altisima mi probabilidad de otro delito."
   ]
  },
  {
   "cell_type": "code",
   "execution_count": null,
   "metadata": {},
   "outputs": [],
   "source": [
    "#SEXO\n",
    "\n",
    "#Definimos los valores unicos que va a iterar\n",
    "sexo = delitos.sexo.unique()\n",
    "\n",
    "#Hacemos un loop\n",
    "prob_sexo = []\n",
    "nombre_sexo = []\n",
    "\n",
    "for i in sexo:\n",
    "\n",
    "    #prob_alcaldia.append(i + \",\" + \" \" + str(probabilidad_simple2(delitos.alcaldiahechos, i)))\n",
    "    prob_sexo.append(str(probabilidad_simple2(delitos.sexo, i)))\n",
    "    nombre_sexo.append(i)\n",
    "    dict = {'Parametro':nombre_sexo,'Prob':prob_sexo}\n",
    "    \n",
    "    \n",
    "prob_sexo = pd.DataFrame(dict, columns = [\"Parametro\", \"Prob\"]).sort_values(by=\"Prob\", ascending=False)\n",
    "prob_sexo"
   ]
  },
  {
   "cell_type": "code",
   "execution_count": null,
   "metadata": {},
   "outputs": [],
   "source": [
    "#COLONIA\n",
    "\n",
    "#Definimos los valores unicos que va a iterar\n",
    "colonia = delitos.coloniahechos.unique()\n",
    "\n",
    "#Hacemos un loop\n",
    "prob_colonia = []\n",
    "nombre_colonia = []\n",
    "\n",
    "for i in colonia:\n",
    "\n",
    "    #prob_alcaldia.append(i + \",\" + \" \" + str(probabilidad_simple2(delitos.alcaldiahechos, i)))\n",
    "    prob_colonia.append(str(probabilidad_simple2(delitos.coloniahechos, i)))\n",
    "    nombre_colonia.append(i)\n",
    "    dict = {'Parametro':nombre_colonia,'Prob':prob_colonia}\n",
    "    \n",
    "    \n",
    "prob_colonia = pd.DataFrame(dict, columns = [\"Parametro\", \"Prob\"]).sort_values(by=\"Prob\", ascending=False)\n",
    "#prob_colonia\n",
    "\n",
    "#Bris. La probabilidad es diminuta"
   ]
  },
  {
   "cell_type": "code",
   "execution_count": null,
   "metadata": {},
   "outputs": [],
   "source": [
    "#CALLE\n",
    "\n",
    "#Definimos los valores unicos que va a iterar\n",
    "calle = delitos.calle_hechos.unique()\n",
    "\n",
    "#Hacemos un loop\n",
    "prob_calle = []\n",
    "nombre_calle = []\n",
    "\n",
    "for i in calle:\n",
    "\n",
    "    #prob_alcaldia.append(i + \",\" + \" \" + str(probabilidad_simple2(delitos.alcaldiahechos, i)))\n",
    "    prob_calle.append(str(probabilidad_simple2(delitos.calle_hechos, i)))\n",
    "    nombre_calle.append(i)\n",
    "    dict = {'Parametro':nombre_calle,'Prob':prob_calle}\n",
    "    \n",
    "    \n",
    "prob_calle = pd.DataFrame(dict, columns = [\"Parametro\", \"Prob\"]).sort_values(by=\"Prob\", ascending=False)\n",
    "#prob_calle\n",
    "\n",
    "#Bris. La probabilidad es diminuta"
   ]
  },
  {
   "cell_type": "markdown",
   "metadata": {},
   "source": [
    "# Generamos las prob como archivos de excel"
   ]
  },
  {
   "cell_type": "code",
   "execution_count": null,
   "metadata": {},
   "outputs": [],
   "source": [
    "#prob_calle.to_csv(r'C:/Users/Ramiro Antonio/Documents/ironhack_labs/capstone/prob_calle.csv')"
   ]
  },
  {
   "cell_type": "code",
   "execution_count": null,
   "metadata": {},
   "outputs": [],
   "source": [
    "#prob_alcaldia.to_csv(r'C:/Users/Ramiro Antonio/Documents/ironhack_labs/capstone/prob_alcaldia.csv')"
   ]
  },
  {
   "cell_type": "code",
   "execution_count": null,
   "metadata": {},
   "outputs": [],
   "source": [
    "#prob_edad.to_csv(r'C:/Users/Ramiro Antonio/Documents/ironhack_labs/capstone/prob_edad.csv')"
   ]
  },
  {
   "cell_type": "code",
   "execution_count": null,
   "metadata": {},
   "outputs": [],
   "source": [
    "#prob_delito.to_csv(r'C:/Users/Ramiro Antonio/Documents/ironhack_labs/capstone/prob_delito.csv')"
   ]
  },
  {
   "cell_type": "code",
   "execution_count": null,
   "metadata": {},
   "outputs": [],
   "source": [
    "#prob_mes.to_csv(r'C:/Users/Ramiro Antonio/Documents/ironhack_labs/capstone/prob_mes.csv')"
   ]
  },
  {
   "cell_type": "code",
   "execution_count": null,
   "metadata": {},
   "outputs": [],
   "source": [
    "#prob_hora.to_csv(r'C:/Users/Ramiro Antonio/Documents/ironhack_labs/capstone/prob_hora.csv')"
   ]
  },
  {
   "cell_type": "code",
   "execution_count": null,
   "metadata": {},
   "outputs": [],
   "source": [
    "#prob_sexo.to_csv(r'C:/Users/Ramiro Antonio/Documents/ironhack_labs/capstone/prob_sexo.csv')"
   ]
  },
  {
   "cell_type": "code",
   "execution_count": null,
   "metadata": {},
   "outputs": [],
   "source": [
    "#prob_colonia.to_csv(r'C:/Users/Ramiro Antonio/Documents/ironhack_labs/capstone/prob_colonia.csv')"
   ]
  },
  {
   "cell_type": "code",
   "execution_count": null,
   "metadata": {},
   "outputs": [],
   "source": [
    "#Las cargamos\n",
    "prob_calle = pd.read_csv(\"prob_calle.csv\")\n",
    "prob_alcaldia = pd.read_csv(\"prob_alcaldia.csv\")\n",
    "prob_edad = pd.read_csv(\"prob_edad.csv\")\n",
    "prob_delito = pd.read_csv(\"prob_delito.csv\")\n",
    "prob_mes = pd.read_csv(\"prob_mes.csv\")\n",
    "prob_hora = pd.read_csv(\"prob_hora.csv\")\n",
    "prob_sexo = pd.read_csv(\"prob_sexo.csv\")\n",
    "prob_colonia = pd.read_csv(\"prob_colonia.csv\")"
   ]
  },
  {
   "cell_type": "markdown",
   "metadata": {},
   "source": [
    "# Fórmula bayesiana"
   ]
  },
  {
   "cell_type": "markdown",
   "metadata": {},
   "source": [
    "La fórmula Bayesiana es \n",
    "P( A | B) = P (B | A) * P(A)  /  P(B)\n",
    "\n",
    "Donde:\n",
    "  \n",
    "   P( A | B) es la prob posteriori \n",
    "   \n",
    "   P (B | A) es el likelihood\n",
    "  \n",
    "   P (A) es prior prob\n",
    "  \n",
    "   P (B) es marginal likelihood"
   ]
  },
  {
   "cell_type": "code",
   "execution_count": null,
   "metadata": {},
   "outputs": [],
   "source": [
    "def prob_bayesian(x, y):\n",
    "    priori = prob_priori\n",
    "    marginal_likelihood = probl_marginal\n",
    "    likelihoood = AyB \n",
    "    return d"
   ]
  },
  {
   "cell_type": "code",
   "execution_count": null,
   "metadata": {},
   "outputs": [],
   "source": []
  },
  {
   "cell_type": "code",
   "execution_count": null,
   "metadata": {},
   "outputs": [],
   "source": []
  },
  {
   "cell_type": "code",
   "execution_count": null,
   "metadata": {},
   "outputs": [],
   "source": []
  },
  {
   "cell_type": "code",
   "execution_count": null,
   "metadata": {},
   "outputs": [],
   "source": []
  },
  {
   "cell_type": "code",
   "execution_count": null,
   "metadata": {},
   "outputs": [],
   "source": []
  },
  {
   "cell_type": "code",
   "execution_count": null,
   "metadata": {},
   "outputs": [],
   "source": []
  },
  {
   "cell_type": "code",
   "execution_count": null,
   "metadata": {},
   "outputs": [],
   "source": []
  },
  {
   "cell_type": "code",
   "execution_count": null,
   "metadata": {},
   "outputs": [],
   "source": []
  },
  {
   "cell_type": "code",
   "execution_count": null,
   "metadata": {},
   "outputs": [],
   "source": []
  },
  {
   "cell_type": "code",
   "execution_count": null,
   "metadata": {},
   "outputs": [],
   "source": [
    "#Complicamos la función para hacer un lista de la probabilidad de cada uno\n",
    "\n",
    "def probabilidad_simple3(x, param, nombres_columnas):\n",
    "    lista_prob = []\n",
    "    for i in lista_param:\n",
    "        lista_prob.append([i, i==param.count()])\n",
    "        lista_prob = pd.DataFrame(list_prob, columns=nombres_columnas)\n",
    "        return lista_prob\n",
    "\n",
    "\n",
    "lista_parametros = [\"Masculino\", \"Femenino\"]\n",
    "nombres = ['Valor', \"Probabilidad\"]\n",
    "\n",
    "probabilidades = probabilidad_simple3(x=delitos['sexo'], \n",
    "                                      param=lista_parametros, nombres_columnas=nombres)   #se puede cambiar x por colm_x (da igual)\n",
    "\n",
    "probabilidades"
   ]
  },
  {
   "cell_type": "code",
   "execution_count": null,
   "metadata": {},
   "outputs": [],
   "source": [
    "\n",
    "def probabilidad_simple4(x, param, nombres_columnas):\n",
    "    lista_prob = []\n",
    "    for n in lista_param:\n",
    "        lista_prob.append([n, x[n==param].count()])\n",
    "        lista_prob = pd.DataFrame(list_prob, columns=nombres_columnas)\n",
    "        return lista_prob\n",
    "\n",
    "\n",
    "lista_parametros = [\"Masculino\", \"Femenino\"]\n",
    "nombres = ['Valor', \"Probabilidad\"]\n",
    "\n",
    "probabilidades = probabilidad_simple4(x=delitos['sexo'], param=lista_parametros, nombres_columnas=nombres)   #se puede cambiar x por colm_x (da igual)\n",
    "\n",
    "probabilidades"
   ]
  },
  {
   "cell_type": "code",
   "execution_count": null,
   "metadata": {},
   "outputs": [],
   "source": []
  },
  {
   "cell_type": "code",
   "execution_count": null,
   "metadata": {},
   "outputs": [],
   "source": []
  },
  {
   "cell_type": "code",
   "execution_count": null,
   "metadata": {},
   "outputs": [],
   "source": []
  }
 ],
 "metadata": {
  "kernelspec": {
   "display_name": "Python 3",
   "language": "python",
   "name": "python3"
  },
  "language_info": {
   "codemirror_mode": {
    "name": "ipython",
    "version": 3
   },
   "file_extension": ".py",
   "mimetype": "text/x-python",
   "name": "python",
   "nbconvert_exporter": "python",
   "pygments_lexer": "ipython3",
   "version": "3.7.3"
  }
 },
 "nbformat": 4,
 "nbformat_minor": 2
}
